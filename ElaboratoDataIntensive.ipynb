{
 "cells": [
  {
   "cell_type": "markdown",
   "id": "41ca6320",
   "metadata": {
    "id": "41ca6320"
   },
   "source": [
    "# PREVISIONE DEI NUOVI POSITIVI AL COVID-19\n",
    "**Progetto per l'esame di Programmazione di applicazioni di Data Intensive**\n",
    "\n",
    "Realizzato da: **Viola Leonardo**  \n",
    "`leonardo.viola2@studio.unibo.it`"
   ]
  },
  {
   "cell_type": "markdown",
   "id": "dea132ae",
   "metadata": {
    "id": "dea132ae"
   },
   "source": [
    "## Setup\n",
    "Importare i package necessari per verificarne l'installazione."
   ]
  },
  {
   "cell_type": "code",
   "execution_count": 1,
   "id": "7dda8bae",
   "metadata": {
    "executionInfo": {
     "elapsed": 10,
     "status": "ok",
     "timestamp": 1724778576185,
     "user": {
      "displayName": "leonardo viola",
      "userId": "05669561941182783016"
     },
     "user_tz": -120
    },
    "id": "7dda8bae"
   },
   "outputs": [],
   "source": [
    "import numpy as np\n",
    "import requests\n",
    "import pandas as pd\n",
    "import matplotlib.pyplot as plt\n",
    "import sklearn\n",
    "import warnings\n",
    "warnings.filterwarnings('ignore')\n",
    "%matplotlib inline\n",
    "pd.options.mode.chained_assignment = None  # default='warn'"
   ]
  },
  {
   "cell_type": "markdown",
   "id": "3dd10684",
   "metadata": {
    "id": "3dd10684"
   },
   "source": [
    "# DESCRIZIONE PROBLEMA\n",
    "\n",
    "Il dataset che è possibile reperire a questo [link](https://github.com/pcm-dpc/COVID-19/blob/master/dati-json/dpc-covid19-ita-andamento-nazionale.json), contiene i dati relativi alla diffusione del covid-19 in Italia a partire da inizio 2020. L'obiettivo è quello di predire l'andamento dei nuovi positivi.  "
   ]
  },
  {
   "cell_type": "code",
   "execution_count": 2,
   "id": "b8cb1786",
   "metadata": {
    "executionInfo": {
     "elapsed": 8,
     "status": "ok",
     "timestamp": 1724778576186,
     "user": {
      "displayName": "leonardo viola",
      "userId": "05669561941182783016"
     },
     "user_tz": -120
    },
    "id": "b8cb1786"
   },
   "outputs": [],
   "source": [
    "URL = \"https://raw.githubusercontent.com/pcm-dpc/COVID-19/master/dati-json/dpc-covid19-ita-andamento-nazionale.json\"\n",
    "import os.path\n",
    "if not os.path.exists(\"covid.json\"):\n",
    "    from urllib.request import urlretrieve\n",
    "    urlretrieve(URL, \"covid.json\")\n",
    "\n",
    "file_path = os.path.abspath(\"covid.json\")\n"
   ]
  },
  {
   "cell_type": "markdown",
   "id": "6d19f51e",
   "metadata": {
    "id": "6d19f51e"
   },
   "source": [
    "# ESPLORAZIONE DEI DATI"
   ]
  },
  {
   "cell_type": "code",
   "execution_count": 3,
   "id": "1ab39e2e",
   "metadata": {
    "colab": {
     "base_uri": "https://localhost:8080/",
     "height": 617
    },
    "executionInfo": {
     "elapsed": 344,
     "status": "ok",
     "timestamp": 1724777210221,
     "user": {
      "displayName": "leonardo viola",
      "userId": "05669561941182783016"
     },
     "user_tz": -120
    },
    "id": "1ab39e2e",
    "outputId": "27619382-c281-485a-871b-ba745f266aab"
   },
   "outputs": [
    {
     "data": {
      "text/html": [
       "<div>\n",
       "<style scoped>\n",
       "    .dataframe tbody tr th:only-of-type {\n",
       "        vertical-align: middle;\n",
       "    }\n",
       "\n",
       "    .dataframe tbody tr th {\n",
       "        vertical-align: top;\n",
       "    }\n",
       "\n",
       "    .dataframe thead th {\n",
       "        text-align: right;\n",
       "    }\n",
       "</style>\n",
       "<table border=\"1\" class=\"dataframe\">\n",
       "  <thead>\n",
       "    <tr style=\"text-align: right;\">\n",
       "      <th></th>\n",
       "      <th>data</th>\n",
       "      <th>stato</th>\n",
       "      <th>ricoverati_con_sintomi</th>\n",
       "      <th>terapia_intensiva</th>\n",
       "      <th>totale_ospedalizzati</th>\n",
       "      <th>isolamento_domiciliare</th>\n",
       "      <th>totale_positivi</th>\n",
       "      <th>variazione_totale_positivi</th>\n",
       "      <th>nuovi_positivi</th>\n",
       "      <th>dimessi_guariti</th>\n",
       "      <th>...</th>\n",
       "      <th>tamponi</th>\n",
       "      <th>casi_testati</th>\n",
       "      <th>note</th>\n",
       "      <th>ingressi_terapia_intensiva</th>\n",
       "      <th>note_test</th>\n",
       "      <th>note_casi</th>\n",
       "      <th>totale_positivi_test_molecolare</th>\n",
       "      <th>totale_positivi_test_antigenico_rapido</th>\n",
       "      <th>tamponi_test_molecolare</th>\n",
       "      <th>tamponi_test_antigenico_rapido</th>\n",
       "    </tr>\n",
       "  </thead>\n",
       "  <tbody>\n",
       "    <tr>\n",
       "      <th>0</th>\n",
       "      <td>2020-02-24T18:00:00</td>\n",
       "      <td>ITA</td>\n",
       "      <td>101</td>\n",
       "      <td>26</td>\n",
       "      <td>127</td>\n",
       "      <td>94</td>\n",
       "      <td>221</td>\n",
       "      <td>0</td>\n",
       "      <td>221</td>\n",
       "      <td>1</td>\n",
       "      <td>...</td>\n",
       "      <td>4324</td>\n",
       "      <td>NaN</td>\n",
       "      <td>None</td>\n",
       "      <td>NaN</td>\n",
       "      <td>NaN</td>\n",
       "      <td>NaN</td>\n",
       "      <td>NaN</td>\n",
       "      <td>NaN</td>\n",
       "      <td>NaN</td>\n",
       "      <td>NaN</td>\n",
       "    </tr>\n",
       "    <tr>\n",
       "      <th>1</th>\n",
       "      <td>2020-02-25T18:00:00</td>\n",
       "      <td>ITA</td>\n",
       "      <td>114</td>\n",
       "      <td>35</td>\n",
       "      <td>150</td>\n",
       "      <td>162</td>\n",
       "      <td>311</td>\n",
       "      <td>90</td>\n",
       "      <td>93</td>\n",
       "      <td>1</td>\n",
       "      <td>...</td>\n",
       "      <td>8623</td>\n",
       "      <td>NaN</td>\n",
       "      <td>None</td>\n",
       "      <td>NaN</td>\n",
       "      <td>NaN</td>\n",
       "      <td>NaN</td>\n",
       "      <td>NaN</td>\n",
       "      <td>NaN</td>\n",
       "      <td>NaN</td>\n",
       "      <td>NaN</td>\n",
       "    </tr>\n",
       "    <tr>\n",
       "      <th>2</th>\n",
       "      <td>2020-02-26T18:00:00</td>\n",
       "      <td>ITA</td>\n",
       "      <td>128</td>\n",
       "      <td>36</td>\n",
       "      <td>164</td>\n",
       "      <td>221</td>\n",
       "      <td>385</td>\n",
       "      <td>74</td>\n",
       "      <td>78</td>\n",
       "      <td>3</td>\n",
       "      <td>...</td>\n",
       "      <td>9587</td>\n",
       "      <td>NaN</td>\n",
       "      <td>None</td>\n",
       "      <td>NaN</td>\n",
       "      <td>NaN</td>\n",
       "      <td>NaN</td>\n",
       "      <td>NaN</td>\n",
       "      <td>NaN</td>\n",
       "      <td>NaN</td>\n",
       "      <td>NaN</td>\n",
       "    </tr>\n",
       "    <tr>\n",
       "      <th>3</th>\n",
       "      <td>2020-02-27T18:00:00</td>\n",
       "      <td>ITA</td>\n",
       "      <td>248</td>\n",
       "      <td>56</td>\n",
       "      <td>304</td>\n",
       "      <td>284</td>\n",
       "      <td>588</td>\n",
       "      <td>203</td>\n",
       "      <td>250</td>\n",
       "      <td>45</td>\n",
       "      <td>...</td>\n",
       "      <td>12014</td>\n",
       "      <td>NaN</td>\n",
       "      <td>None</td>\n",
       "      <td>NaN</td>\n",
       "      <td>NaN</td>\n",
       "      <td>NaN</td>\n",
       "      <td>NaN</td>\n",
       "      <td>NaN</td>\n",
       "      <td>NaN</td>\n",
       "      <td>NaN</td>\n",
       "    </tr>\n",
       "    <tr>\n",
       "      <th>4</th>\n",
       "      <td>2020-02-28T18:00:00</td>\n",
       "      <td>ITA</td>\n",
       "      <td>345</td>\n",
       "      <td>64</td>\n",
       "      <td>409</td>\n",
       "      <td>412</td>\n",
       "      <td>821</td>\n",
       "      <td>233</td>\n",
       "      <td>238</td>\n",
       "      <td>46</td>\n",
       "      <td>...</td>\n",
       "      <td>15695</td>\n",
       "      <td>NaN</td>\n",
       "      <td>None</td>\n",
       "      <td>NaN</td>\n",
       "      <td>NaN</td>\n",
       "      <td>NaN</td>\n",
       "      <td>NaN</td>\n",
       "      <td>NaN</td>\n",
       "      <td>NaN</td>\n",
       "      <td>NaN</td>\n",
       "    </tr>\n",
       "    <tr>\n",
       "      <th>...</th>\n",
       "      <td>...</td>\n",
       "      <td>...</td>\n",
       "      <td>...</td>\n",
       "      <td>...</td>\n",
       "      <td>...</td>\n",
       "      <td>...</td>\n",
       "      <td>...</td>\n",
       "      <td>...</td>\n",
       "      <td>...</td>\n",
       "      <td>...</td>\n",
       "      <td>...</td>\n",
       "      <td>...</td>\n",
       "      <td>...</td>\n",
       "      <td>...</td>\n",
       "      <td>...</td>\n",
       "      <td>...</td>\n",
       "      <td>...</td>\n",
       "      <td>...</td>\n",
       "      <td>...</td>\n",
       "      <td>...</td>\n",
       "      <td>...</td>\n",
       "    </tr>\n",
       "    <tr>\n",
       "      <th>1636</th>\n",
       "      <td>2024-08-17T17:00:00</td>\n",
       "      <td>ITA</td>\n",
       "      <td>2210</td>\n",
       "      <td>66</td>\n",
       "      <td>2276</td>\n",
       "      <td>196002</td>\n",
       "      <td>198278</td>\n",
       "      <td>1548</td>\n",
       "      <td>2271</td>\n",
       "      <td>26430452</td>\n",
       "      <td>...</td>\n",
       "      <td>282863640</td>\n",
       "      <td>70368338.0</td>\n",
       "      <td>None</td>\n",
       "      <td>5.0</td>\n",
       "      <td>NaN</td>\n",
       "      <td>NaN</td>\n",
       "      <td>9947477.0</td>\n",
       "      <td>16878321.0</td>\n",
       "      <td>103122416.0</td>\n",
       "      <td>179741224.0</td>\n",
       "    </tr>\n",
       "    <tr>\n",
       "      <th>1637</th>\n",
       "      <td>2024-08-18T17:00:00</td>\n",
       "      <td>ITA</td>\n",
       "      <td>2169</td>\n",
       "      <td>75</td>\n",
       "      <td>2244</td>\n",
       "      <td>196751</td>\n",
       "      <td>198995</td>\n",
       "      <td>717</td>\n",
       "      <td>1426</td>\n",
       "      <td>26431157</td>\n",
       "      <td>...</td>\n",
       "      <td>282872244</td>\n",
       "      <td>70369770.0</td>\n",
       "      <td>None</td>\n",
       "      <td>12.0</td>\n",
       "      <td>NaN</td>\n",
       "      <td>NaN</td>\n",
       "      <td>9947653.0</td>\n",
       "      <td>16879571.0</td>\n",
       "      <td>103123303.0</td>\n",
       "      <td>179748941.0</td>\n",
       "    </tr>\n",
       "    <tr>\n",
       "      <th>1638</th>\n",
       "      <td>2024-08-19T17:00:00</td>\n",
       "      <td>ITA</td>\n",
       "      <td>2224</td>\n",
       "      <td>79</td>\n",
       "      <td>2303</td>\n",
       "      <td>196819</td>\n",
       "      <td>199122</td>\n",
       "      <td>127</td>\n",
       "      <td>956</td>\n",
       "      <td>26431971</td>\n",
       "      <td>...</td>\n",
       "      <td>282878256</td>\n",
       "      <td>70370959.0</td>\n",
       "      <td>None</td>\n",
       "      <td>7.0</td>\n",
       "      <td>NaN</td>\n",
       "      <td>NaN</td>\n",
       "      <td>9947856.0</td>\n",
       "      <td>16880324.0</td>\n",
       "      <td>103123879.0</td>\n",
       "      <td>179754377.0</td>\n",
       "    </tr>\n",
       "    <tr>\n",
       "      <th>1639</th>\n",
       "      <td>2024-08-20T17:00:00</td>\n",
       "      <td>ITA</td>\n",
       "      <td>2239</td>\n",
       "      <td>78</td>\n",
       "      <td>2317</td>\n",
       "      <td>198198</td>\n",
       "      <td>200515</td>\n",
       "      <td>1393</td>\n",
       "      <td>3339</td>\n",
       "      <td>26433903</td>\n",
       "      <td>...</td>\n",
       "      <td>282896563</td>\n",
       "      <td>70373411.0</td>\n",
       "      <td>None</td>\n",
       "      <td>10.0</td>\n",
       "      <td>NaN</td>\n",
       "      <td>NaN</td>\n",
       "      <td>9948380.0</td>\n",
       "      <td>16883139.0</td>\n",
       "      <td>103125585.0</td>\n",
       "      <td>179770978.0</td>\n",
       "    </tr>\n",
       "    <tr>\n",
       "      <th>1640</th>\n",
       "      <td>2024-08-21T17:00:00</td>\n",
       "      <td>ITA</td>\n",
       "      <td>2262</td>\n",
       "      <td>82</td>\n",
       "      <td>2344</td>\n",
       "      <td>199270</td>\n",
       "      <td>201614</td>\n",
       "      <td>1099</td>\n",
       "      <td>2492</td>\n",
       "      <td>26435280</td>\n",
       "      <td>...</td>\n",
       "      <td>282908721</td>\n",
       "      <td>70375335.0</td>\n",
       "      <td>None</td>\n",
       "      <td>9.0</td>\n",
       "      <td>NaN</td>\n",
       "      <td>NaN</td>\n",
       "      <td>9948704.0</td>\n",
       "      <td>16885307.0</td>\n",
       "      <td>103127090.0</td>\n",
       "      <td>179781631.0</td>\n",
       "    </tr>\n",
       "  </tbody>\n",
       "</table>\n",
       "<p>1641 rows × 24 columns</p>\n",
       "</div>"
      ],
      "text/plain": [
       "                     data stato  ricoverati_con_sintomi  terapia_intensiva  \\\n",
       "0     2020-02-24T18:00:00   ITA                     101                 26   \n",
       "1     2020-02-25T18:00:00   ITA                     114                 35   \n",
       "2     2020-02-26T18:00:00   ITA                     128                 36   \n",
       "3     2020-02-27T18:00:00   ITA                     248                 56   \n",
       "4     2020-02-28T18:00:00   ITA                     345                 64   \n",
       "...                   ...   ...                     ...                ...   \n",
       "1636  2024-08-17T17:00:00   ITA                    2210                 66   \n",
       "1637  2024-08-18T17:00:00   ITA                    2169                 75   \n",
       "1638  2024-08-19T17:00:00   ITA                    2224                 79   \n",
       "1639  2024-08-20T17:00:00   ITA                    2239                 78   \n",
       "1640  2024-08-21T17:00:00   ITA                    2262                 82   \n",
       "\n",
       "      totale_ospedalizzati  isolamento_domiciliare  totale_positivi  \\\n",
       "0                      127                      94              221   \n",
       "1                      150                     162              311   \n",
       "2                      164                     221              385   \n",
       "3                      304                     284              588   \n",
       "4                      409                     412              821   \n",
       "...                    ...                     ...              ...   \n",
       "1636                  2276                  196002           198278   \n",
       "1637                  2244                  196751           198995   \n",
       "1638                  2303                  196819           199122   \n",
       "1639                  2317                  198198           200515   \n",
       "1640                  2344                  199270           201614   \n",
       "\n",
       "      variazione_totale_positivi  nuovi_positivi  dimessi_guariti  ...  \\\n",
       "0                              0             221                1  ...   \n",
       "1                             90              93                1  ...   \n",
       "2                             74              78                3  ...   \n",
       "3                            203             250               45  ...   \n",
       "4                            233             238               46  ...   \n",
       "...                          ...             ...              ...  ...   \n",
       "1636                        1548            2271         26430452  ...   \n",
       "1637                         717            1426         26431157  ...   \n",
       "1638                         127             956         26431971  ...   \n",
       "1639                        1393            3339         26433903  ...   \n",
       "1640                        1099            2492         26435280  ...   \n",
       "\n",
       "        tamponi  casi_testati  note  ingressi_terapia_intensiva  note_test  \\\n",
       "0          4324           NaN  None                         NaN        NaN   \n",
       "1          8623           NaN  None                         NaN        NaN   \n",
       "2          9587           NaN  None                         NaN        NaN   \n",
       "3         12014           NaN  None                         NaN        NaN   \n",
       "4         15695           NaN  None                         NaN        NaN   \n",
       "...         ...           ...   ...                         ...        ...   \n",
       "1636  282863640    70368338.0  None                         5.0        NaN   \n",
       "1637  282872244    70369770.0  None                        12.0        NaN   \n",
       "1638  282878256    70370959.0  None                         7.0        NaN   \n",
       "1639  282896563    70373411.0  None                        10.0        NaN   \n",
       "1640  282908721    70375335.0  None                         9.0        NaN   \n",
       "\n",
       "      note_casi totale_positivi_test_molecolare  \\\n",
       "0           NaN                             NaN   \n",
       "1           NaN                             NaN   \n",
       "2           NaN                             NaN   \n",
       "3           NaN                             NaN   \n",
       "4           NaN                             NaN   \n",
       "...         ...                             ...   \n",
       "1636        NaN                       9947477.0   \n",
       "1637        NaN                       9947653.0   \n",
       "1638        NaN                       9947856.0   \n",
       "1639        NaN                       9948380.0   \n",
       "1640        NaN                       9948704.0   \n",
       "\n",
       "      totale_positivi_test_antigenico_rapido  tamponi_test_molecolare  \\\n",
       "0                                        NaN                      NaN   \n",
       "1                                        NaN                      NaN   \n",
       "2                                        NaN                      NaN   \n",
       "3                                        NaN                      NaN   \n",
       "4                                        NaN                      NaN   \n",
       "...                                      ...                      ...   \n",
       "1636                              16878321.0              103122416.0   \n",
       "1637                              16879571.0              103123303.0   \n",
       "1638                              16880324.0              103123879.0   \n",
       "1639                              16883139.0              103125585.0   \n",
       "1640                              16885307.0              103127090.0   \n",
       "\n",
       "      tamponi_test_antigenico_rapido  \n",
       "0                                NaN  \n",
       "1                                NaN  \n",
       "2                                NaN  \n",
       "3                                NaN  \n",
       "4                                NaN  \n",
       "...                              ...  \n",
       "1636                     179741224.0  \n",
       "1637                     179748941.0  \n",
       "1638                     179754377.0  \n",
       "1639                     179770978.0  \n",
       "1640                     179781631.0  \n",
       "\n",
       "[1641 rows x 24 columns]"
      ]
     },
     "execution_count": 3,
     "metadata": {},
     "output_type": "execute_result"
    }
   ],
   "source": [
    "dataset = pd.read_json(file_path)\n",
    "dataset"
   ]
  },
  {
   "cell_type": "markdown",
   "id": "b258290d",
   "metadata": {
    "id": "b258290d"
   },
   "source": [
    "Le features disponibili sono 24 e sono:\n",
    "\n",
    "1. `data`: Data dell'informazione\n",
    "2. `stato`: Stato di riferimento     \n",
    "3. `ricoverati_con_sintomi`: il numero di ricoverati con sintomi\n",
    "4. `terapia_intensiva`: il numero di ricoverati in terapia intensiva\n",
    "5. `totale_ospedalizzati`: Totale ospedalizzati\n",
    "6. `isolamento_domiciliare`: Persone in isolamento domiciliare\n",
    "7. `totale_positivi`: Totale attualmente positivi (ospedalizzati + isolamento domiciliare)\n",
    "8. `variazione_totale_positivi`: Variazione del totale positivi (totale_positivi giorno corrente - totale_positivi giorno precedente)\n",
    "9. `nuovi_positivi`: Nuovi attualmente positivi (totale_casi giorno corrente - totale_casi giorno precedente)\n",
    "10. `dimessi_guariti`: Persone dimesse guarite\n",
    "11. `deceduti`: Persone decedute\n",
    "12. `casi_da_sospetto_diagnostico`: Casi positivi al tampone emersi da attività clinica (NON PIÙ POPOLATO)\n",
    "13. `casi_da_screening`: Casi positivi emersi da indagini e test (NON PIÙ POPOLATO)\n",
    "14. `totale_casi`: Totale casi positivi\n",
    "15. `tamponi`: Totale tamponi (processati con test molecolari)\n",
    "16. `casi_testati`: Totale dei soggetti sottoposti al test\n",
    "17. `note`: Note\n",
    "18. `ingressi_terapia_intensiva`: Ingressi giornalieri in terapia intensiva\n",
    "19. `note_test`: Note sui test effettuati\n",
    "20. `note_casi`: Note sui casi testati\n",
    "21. `totale_positivi_test_molecolare`: Numero di positivi ai test molecolari\n",
    "22. `totale_positivi_test_antigenico_rapido`: Numero di positivi ai test antigenici\n",
    "23. `tamponi_test_molecolare`: Numero di tamponi con test_molecolare\n",
    "24. `tamponi_test_antigenico_rapido`: Numero tamponi con test antigenico rapido\n",
    "\n",
    "Dato un determinato giorno, l'obiettivo è predire il numero di nuovi positivi in quella data, quindi la variabile target è `nuovi_positivi`.\n",
    "Si tratta per lo più di variabili continue, l'unica variabile categorica è `stato` che possiamo eliminare, perché trattandosi di un dataset contenente i dati del covid in Italia, è ovvio che ogni riga si riferisce all'Italia.\n",
    "Oltre a `stato` sono presenti altre features che possono essere eliminate perché non utili al nostro scopo."
   ]
  },
  {
   "cell_type": "markdown",
   "id": "488e9950",
   "metadata": {
    "id": "488e9950"
   },
   "source": [
    "# Pulizia dei dati"
   ]
  },
  {
   "cell_type": "markdown",
   "id": "eb9bf3d2",
   "metadata": {
    "id": "eb9bf3d2"
   },
   "source": [
    "Come prima cosa, semplifico il formato della data, eliminando l'ora, e poi la imposto come indice del dataframe:"
   ]
  },
  {
   "cell_type": "code",
   "execution_count": 4,
   "id": "25787032",
   "metadata": {
    "id": "25787032"
   },
   "outputs": [],
   "source": [
    "from datetime import datetime\n",
    "\n",
    "# Funzione per convertire la data nel formato desiderato\n",
    "def converti_data(data_str):\n",
    "    return datetime.fromisoformat(data_str).date().isoformat()\n",
    "\n",
    "# Applica la funzione di conversione alla serie\n",
    "dataset[\"data\"] = dataset[\"data\"].apply(converti_data)\n",
    "\n",
    "dataset.set_index(\"data\", inplace=True)\n"
   ]
  },
  {
   "cell_type": "markdown",
   "id": "d66fbd83",
   "metadata": {
    "id": "d66fbd83"
   },
   "source": [
    "Dato che il nostro dataset è formato da molte colonne possiamo passare all'eliminazione di tutti quei dati che sicuramente non ci serviranno, ovvero: `stato`, `note`, `note_test` e `note_casi`"
   ]
  },
  {
   "cell_type": "code",
   "execution_count": 5,
   "id": "32b0a7b9",
   "metadata": {
    "id": "32b0a7b9"
   },
   "outputs": [],
   "source": [
    "dataset = dataset.drop(['stato', 'note', 'note_test', 'note_casi'], axis=1)"
   ]
  },
  {
   "cell_type": "markdown",
   "id": "57fd2d10",
   "metadata": {
    "id": "57fd2d10"
   },
   "source": [
    "Altri dati che sicuramente non sono utili a predire il numero di nuovi positivi sono: il numero dei deceduti, i dimessi guariti, gli ospedalizzati, il numero di persone in terapia intensiva, il numero di ingressi in terapia intensiva, i ricoverati con sintomi e le persone in isolamento domiciliare.\n"
   ]
  },
  {
   "cell_type": "code",
   "execution_count": 6,
   "id": "9cf6de00",
   "metadata": {
    "id": "9cf6de00"
   },
   "outputs": [],
   "source": [
    "dataset = dataset.drop(['deceduti', 'isolamento_domiciliare', 'dimessi_guariti', 'totale_ospedalizzati', 'terapia_intensiva', 'ingressi_terapia_intensiva', 'ricoverati_con_sintomi'], axis=1)"
   ]
  },
  {
   "cell_type": "markdown",
   "id": "c2695974",
   "metadata": {
    "id": "c2695974"
   },
   "source": [
    "Inoltre elimino anche le features `casi_da_sospetto_diagnostico` e `casi_da_screening` perché sono poco popolati (infatti nella descrizione del dataset era specificato che queste features non venivano più popolate) e quindi sono inutili ai fini dell'addestramento del modello.\n",
    "Infatti:"
   ]
  },
  {
   "cell_type": "code",
   "execution_count": 7,
   "id": "6dd1000e",
   "metadata": {
    "colab": {
     "base_uri": "https://localhost:8080/"
    },
    "executionInfo": {
     "elapsed": 6,
     "status": "ok",
     "timestamp": 1724777271348,
     "user": {
      "displayName": "leonardo viola",
      "userId": "05669561941182783016"
     },
     "user_tz": -120
    },
    "id": "6dd1000e",
    "outputId": "e2f16a79-de67-4b22-8412-ce6f3d764bb2"
   },
   "outputs": [
    {
     "name": "stdout",
     "output_type": "stream",
     "text": [
      "1479 righe di 'casi_da_sospetto_diagnostico' con valore Nan su 1641 righe\n"
     ]
    }
   ],
   "source": [
    "valoriNaN = dataset[\"casi_da_sospetto_diagnostico\"].isna().sum()\n",
    "print(f\"{valoriNaN} righe di 'casi_da_sospetto_diagnostico' con valore Nan su {len(dataset['casi_da_sospetto_diagnostico'])} righe\")"
   ]
  },
  {
   "cell_type": "code",
   "execution_count": null,
   "id": "004827ea",
   "metadata": {
    "colab": {
     "base_uri": "https://localhost:8080/"
    },
    "executionInfo": {
     "elapsed": 4,
     "status": "ok",
     "timestamp": 1724777271348,
     "user": {
      "displayName": "leonardo viola",
      "userId": "05669561941182783016"
     },
     "user_tz": -120
    },
    "id": "004827ea",
    "outputId": "95120c3c-0ea4-4c22-e91c-710d73a1785b"
   },
   "outputs": [
    {
     "name": "stdout",
     "output_type": "stream",
     "text": [
      "1479 righe di 'casi_da_screening' con valore Nan su 1641 righe\n"
     ]
    }
   ],
   "source": [
    "valoriNaN = dataset[\"casi_da_screening\"].isna().sum()\n",
    "print(f\"{valoriNaN} righe di 'casi_da_screening' con valore Nan su {len(dataset['casi_da_screening'])} righe\")"
   ]
  },
  {
   "cell_type": "markdown",
   "id": "5692da2a",
   "metadata": {
    "id": "5692da2a"
   },
   "source": [
    "Procedo all'eliminazione:"
   ]
  },
  {
   "cell_type": "code",
   "execution_count": 8,
   "id": "c7009a36",
   "metadata": {
    "id": "c7009a36"
   },
   "outputs": [],
   "source": [
    "dataset = dataset.drop(['casi_da_sospetto_diagnostico', 'casi_da_screening'], axis=1)"
   ]
  },
  {
   "cell_type": "markdown",
   "id": "89122de8",
   "metadata": {
    "id": "89122de8"
   },
   "source": [
    "# Selezione delle features rilevanti"
   ]
  },
  {
   "cell_type": "markdown",
   "id": "1e031c91",
   "metadata": {
    "id": "1e031c91"
   },
   "source": [
    "Dato che noi vogliamo predire l'andamento dei nuovi positivi è logico pensare che questo dato sia strettamente correlato al numero di tamponi effettuato, infatti mi aspetto che più tamponi vengono effettuati e più il numero di nuovi positivi sarà maggiore.\n",
    "\n",
    "Dato che la feature `tamponi` del dataframe non indica il numero di tamponi effettuati in una certa data, ma il totale dei tamponi effettuati fino a quella data, creo una nuova feature `nuovi_tamponi`, creata sottraendo al numero di tamponi della data corrente i tamponi della giornata precedente.  "
   ]
  },
  {
   "cell_type": "code",
   "execution_count": 9,
   "id": "359d7d72",
   "metadata": {
    "id": "359d7d72"
   },
   "outputs": [],
   "source": [
    "dataset[\"nuovi_tamponi\"] = dataset[\"tamponi\"] - dataset[\"tamponi\"].shift(1)\n",
    "dataset[\"nuovi_tamponi\"].iloc[0] = dataset[\"tamponi\"].iloc[0]\n",
    "#dataset[\"nuovi_tamponi\"]"
   ]
  },
  {
   "cell_type": "markdown",
   "id": "25aea786",
   "metadata": {
    "id": "25aea786"
   },
   "source": [
    "Dopo aver calcolato questa nuova feature controllo i suoi valori, mi aspetto che siano tutti valori positivi:"
   ]
  },
  {
   "cell_type": "code",
   "execution_count": 10,
   "id": "80cb1d74",
   "metadata": {
    "colab": {
     "base_uri": "https://localhost:8080/"
    },
    "executionInfo": {
     "elapsed": 327,
     "status": "ok",
     "timestamp": 1724777290110,
     "user": {
      "displayName": "leonardo viola",
      "userId": "05669561941182783016"
     },
     "user_tz": -120
    },
    "id": "80cb1d74",
    "outputId": "53d1f577-81c1-4f05-be25-0a48db11cc2a"
   },
   "outputs": [
    {
     "data": {
      "text/plain": [
       "1"
      ]
     },
     "execution_count": 10,
     "metadata": {},
     "output_type": "execute_result"
    }
   ],
   "source": [
    "(dataset[\"nuovi_tamponi\"]<0).sum()"
   ]
  },
  {
   "cell_type": "markdown",
   "id": "bb0ef9bb",
   "metadata": {
    "id": "bb0ef9bb"
   },
   "source": [
    "Invece è presente un valore negativo, precisamente quello con indice *'2020-12-17'*.\n",
    "\n",
    "Seleziono questo record insieme al successivo e al precedente:"
   ]
  },
  {
   "cell_type": "code",
   "execution_count": 11,
   "id": "bc43cb2c",
   "metadata": {
    "colab": {
     "base_uri": "https://localhost:8080/",
     "height": 247
    },
    "executionInfo": {
     "elapsed": 298,
     "status": "ok",
     "timestamp": 1724777292810,
     "user": {
      "displayName": "leonardo viola",
      "userId": "05669561941182783016"
     },
     "user_tz": -120
    },
    "id": "bc43cb2c",
    "outputId": "ef17ee41-90ad-48c5-e0e6-6c5d5a2fcae1"
   },
   "outputs": [
    {
     "data": {
      "text/html": [
       "<div>\n",
       "<style scoped>\n",
       "    .dataframe tbody tr th:only-of-type {\n",
       "        vertical-align: middle;\n",
       "    }\n",
       "\n",
       "    .dataframe tbody tr th {\n",
       "        vertical-align: top;\n",
       "    }\n",
       "\n",
       "    .dataframe thead th {\n",
       "        text-align: right;\n",
       "    }\n",
       "</style>\n",
       "<table border=\"1\" class=\"dataframe\">\n",
       "  <thead>\n",
       "    <tr style=\"text-align: right;\">\n",
       "      <th></th>\n",
       "      <th>totale_positivi</th>\n",
       "      <th>variazione_totale_positivi</th>\n",
       "      <th>nuovi_positivi</th>\n",
       "      <th>totale_casi</th>\n",
       "      <th>tamponi</th>\n",
       "      <th>casi_testati</th>\n",
       "      <th>totale_positivi_test_molecolare</th>\n",
       "      <th>totale_positivi_test_antigenico_rapido</th>\n",
       "      <th>tamponi_test_molecolare</th>\n",
       "      <th>tamponi_test_antigenico_rapido</th>\n",
       "      <th>nuovi_tamponi</th>\n",
       "    </tr>\n",
       "    <tr>\n",
       "      <th>data</th>\n",
       "      <th></th>\n",
       "      <th></th>\n",
       "      <th></th>\n",
       "      <th></th>\n",
       "      <th></th>\n",
       "      <th></th>\n",
       "      <th></th>\n",
       "      <th></th>\n",
       "      <th></th>\n",
       "      <th></th>\n",
       "      <th></th>\n",
       "    </tr>\n",
       "  </thead>\n",
       "  <tbody>\n",
       "    <tr>\n",
       "      <th>2020-12-16</th>\n",
       "      <td>645706</td>\n",
       "      <td>-17607</td>\n",
       "      <td>17572</td>\n",
       "      <td>1888144</td>\n",
       "      <td>24683230</td>\n",
       "      <td>14165961.0</td>\n",
       "      <td>NaN</td>\n",
       "      <td>NaN</td>\n",
       "      <td>NaN</td>\n",
       "      <td>NaN</td>\n",
       "      <td>199489.0</td>\n",
       "    </tr>\n",
       "    <tr>\n",
       "      <th>2020-12-17</th>\n",
       "      <td>635343</td>\n",
       "      <td>-10363</td>\n",
       "      <td>18236</td>\n",
       "      <td>1906377</td>\n",
       "      <td>24635720</td>\n",
       "      <td>14246739.0</td>\n",
       "      <td>NaN</td>\n",
       "      <td>NaN</td>\n",
       "      <td>NaN</td>\n",
       "      <td>NaN</td>\n",
       "      <td>-47510.0</td>\n",
       "    </tr>\n",
       "    <tr>\n",
       "      <th>2020-12-18</th>\n",
       "      <td>627798</td>\n",
       "      <td>-7545</td>\n",
       "      <td>17992</td>\n",
       "      <td>1921778</td>\n",
       "      <td>24815520</td>\n",
       "      <td>14150088.0</td>\n",
       "      <td>NaN</td>\n",
       "      <td>NaN</td>\n",
       "      <td>NaN</td>\n",
       "      <td>NaN</td>\n",
       "      <td>179800.0</td>\n",
       "    </tr>\n",
       "  </tbody>\n",
       "</table>\n",
       "</div>"
      ],
      "text/plain": [
       "            totale_positivi  variazione_totale_positivi  nuovi_positivi  \\\n",
       "data                                                                      \n",
       "2020-12-16           645706                      -17607           17572   \n",
       "2020-12-17           635343                      -10363           18236   \n",
       "2020-12-18           627798                       -7545           17992   \n",
       "\n",
       "            totale_casi   tamponi  casi_testati  \\\n",
       "data                                              \n",
       "2020-12-16      1888144  24683230    14165961.0   \n",
       "2020-12-17      1906377  24635720    14246739.0   \n",
       "2020-12-18      1921778  24815520    14150088.0   \n",
       "\n",
       "            totale_positivi_test_molecolare  \\\n",
       "data                                          \n",
       "2020-12-16                              NaN   \n",
       "2020-12-17                              NaN   \n",
       "2020-12-18                              NaN   \n",
       "\n",
       "            totale_positivi_test_antigenico_rapido  tamponi_test_molecolare  \\\n",
       "data                                                                          \n",
       "2020-12-16                                     NaN                      NaN   \n",
       "2020-12-17                                     NaN                      NaN   \n",
       "2020-12-18                                     NaN                      NaN   \n",
       "\n",
       "            tamponi_test_antigenico_rapido  nuovi_tamponi  \n",
       "data                                                       \n",
       "2020-12-16                             NaN       199489.0  \n",
       "2020-12-17                             NaN       -47510.0  \n",
       "2020-12-18                             NaN       179800.0  "
      ]
     },
     "execution_count": 11,
     "metadata": {},
     "output_type": "execute_result"
    }
   ],
   "source": [
    "dataset.loc[[\"2020-12-16\",\"2020-12-17\",\"2020-12-18\"]]"
   ]
  },
  {
   "cell_type": "markdown",
   "id": "da56ebd5",
   "metadata": {
    "id": "da56ebd5"
   },
   "source": [
    "Osserviamo che fino al *2020-12-16* il numero di tamponi totali era *24.683.230* e invece al *2020-12-17* i tamponi totali effettuati erano *24.635.720*, ovvero *47510* in meno, il chè è impossibile.\n",
    "\n",
    "Suppongo ci sia stato un errore nell'inserimento dei dati, anche perché in data *2020-12-18* il totale era *24.815.520*, quindi assumiamo che in data  *2020-12-17* invece di inserire *24.735.720* (valore che potrebbe essere corretto perché è sia maggiore del giorno precedente che minore del giorno successivo) hanno inserito *24.635.720*, quindi in base a questa assunzione il corretto valore della feature `nuovi_tamponi` è *24.735.720* - *24.683.230* = *52.490*\n",
    "\n",
    "Quindi assegnamo questo valore alla feature `nuovi_tamponi` nel record con indice *2020-12-17*:"
   ]
  },
  {
   "cell_type": "code",
   "execution_count": 12,
   "id": "41aa8bf0",
   "metadata": {
    "id": "41aa8bf0"
   },
   "outputs": [],
   "source": [
    "dataset.loc['2020-12-17', 'nuovi_tamponi'] = 52490"
   ]
  },
  {
   "cell_type": "markdown",
   "id": "75cc2d3a",
   "metadata": {
    "id": "75cc2d3a"
   },
   "source": [
    "Infatti ora non ho più valori negativi:"
   ]
  },
  {
   "cell_type": "code",
   "execution_count": 13,
   "id": "cf057d00",
   "metadata": {
    "colab": {
     "base_uri": "https://localhost:8080/"
    },
    "executionInfo": {
     "elapsed": 6,
     "status": "ok",
     "timestamp": 1724777305293,
     "user": {
      "displayName": "leonardo viola",
      "userId": "05669561941182783016"
     },
     "user_tz": -120
    },
    "id": "cf057d00",
    "outputId": "4a79b69f-9717-4c1f-8989-1909f556e4fd"
   },
   "outputs": [
    {
     "data": {
      "text/plain": [
       "0"
      ]
     },
     "execution_count": 13,
     "metadata": {},
     "output_type": "execute_result"
    }
   ],
   "source": [
    "(dataset[\"nuovi_tamponi\"]<0).sum()"
   ]
  },
  {
   "cell_type": "code",
   "execution_count": 14,
   "id": "fa4d9525",
   "metadata": {
    "colab": {
     "base_uri": "https://localhost:8080/",
     "height": 867
    },
    "executionInfo": {
     "elapsed": 777,
     "status": "ok",
     "timestamp": 1724777307559,
     "user": {
      "displayName": "leonardo viola",
      "userId": "05669561941182783016"
     },
     "user_tz": -120
    },
    "id": "fa4d9525",
    "outputId": "9e1d5696-6696-45b8-8535-1f9daa58d1ce"
   },
   "outputs": [
    {
     "data": {
      "text/plain": [
       "<AxesSubplot:xlabel='nuovi_tamponi', ylabel='nuovi_positivi'>"
      ]
     },
     "execution_count": 14,
     "metadata": {},
     "output_type": "execute_result"
    },
    {
     "data": {
      "image/png": "[encoded data removed]",
      "text/plain": [
       "<Figure size 1080x720 with 1 Axes>"
      ]
     },
     "metadata": {
      "needs_background": "light"
     },
     "output_type": "display_data"
    }
   ],
   "source": [
    "dataset.plot.scatter(\"nuovi_tamponi\", \"nuovi_positivi\", figsize = (15,10))"
   ]
  },
  {
   "cell_type": "markdown",
   "id": "b469ba3b",
   "metadata": {
    "id": "b469ba3b"
   },
   "source": [
    "Come mi aspettavo il grafico mostra che più il numero di tamponi effettuati è alto e più il numero di nuovi positivi è alto.\n",
    "\n",
    "Bisogna tenere conto anche di un'altra cosa, per ricevere il risultato di un tampone antigenico rapido bastano 10-15 minuti, mentre per un tampone molecolare ci vogliono 2-3 giorni, quindi il numero di tamponi che effettuo oggi (soprattutto il numero di tamponi molecolari) andrà ad influenzare anche il numero di nuovi positivi dei giorni successivi.\n",
    "\n",
    "Quindi mi aspetto che il numero di positivi sia influenzato diversamente dal numero di tamponi rapidi e molecolari, per questo, in modo simile a come ho creato la feature `nuovi_tamponi`, creo due nuove features, `nuovi_tamponi_rapidi` e `nuovi_tamponi_molecolari` che equivalgono rispettivamente al numero dei tamponi rapidi e al numero dei tamponi molecolari effettuati in una determinata data."
   ]
  },
  {
   "cell_type": "code",
   "execution_count": 15,
   "id": "f247e5f2",
   "metadata": {
    "id": "f247e5f2"
   },
   "outputs": [],
   "source": [
    "dataset[\"nuovi_tamponi_rapidi\"] = dataset[\"tamponi_test_antigenico_rapido\"] - dataset[\"tamponi_test_antigenico_rapido\"].shift(1)\n",
    "dataset[\"nuovi_tamponi_rapidi\"].iloc[0] = dataset[\"tamponi_test_antigenico_rapido\"].iloc[0]\n",
    "#dataset[\"nuovi_tamponi_rapidi\"]"
   ]
  },
  {
   "cell_type": "code",
   "execution_count": 16,
   "id": "ed46943c",
   "metadata": {
    "id": "ed46943c"
   },
   "outputs": [],
   "source": [
    "dataset[\"nuovi_tamponi_molecolari\"] = dataset[\"tamponi_test_molecolare\"] - dataset[\"tamponi_test_molecolare\"].shift(1)\n",
    "dataset[\"nuovi_tamponi_molecolari\"].iloc[0] = dataset[\"tamponi_test_molecolare\"].iloc[0]\n",
    "#dataset[\"nuovi_tamponi_molecolari\"]"
   ]
  },
  {
   "cell_type": "markdown",
   "id": "19e1a4da",
   "metadata": {
    "id": "19e1a4da"
   },
   "source": [
    "Ora prima di procedere, verifichiamo per ogni record (tenendo conto che alcuni records contengono valori Nan ancora), che la somma di queste due features equivale al totale (ricordando che il dataframe ha 1641 righe):"
   ]
  },
  {
   "cell_type": "code",
   "execution_count": 17,
   "id": "b025f1ad",
   "metadata": {
    "colab": {
     "base_uri": "https://localhost:8080/"
    },
    "executionInfo": {
     "elapsed": 316,
     "status": "ok",
     "timestamp": 1724777320448,
     "user": {
      "displayName": "leonardo viola",
      "userId": "05669561941182783016"
     },
     "user_tz": -120
    },
    "id": "b025f1ad",
    "outputId": "a45925ba-7075-453e-cc4b-1541ed0f53d7"
   },
   "outputs": [
    {
     "name": "stdout",
     "output_type": "stream",
     "text": [
      "Sono presenti 1314 records corretti e 327 con valori Nan, la somma è 1641\n"
     ]
    }
   ],
   "source": [
    "records_corretti = (dataset[\"nuovi_tamponi\"] == (dataset[\"nuovi_tamponi_rapidi\"] + dataset[\"nuovi_tamponi_molecolari\"])).sum()\n",
    "records_nan = dataset[\"nuovi_tamponi_rapidi\"].isna().sum()\n",
    "totale = records_corretti + records_nan\n",
    "print(f\"Sono presenti {records_corretti} records corretti e {records_nan} con valori Nan, la somma è {totale}\")"
   ]
  },
  {
   "cell_type": "markdown",
   "id": "6600617f",
   "metadata": {
    "id": "6600617f"
   },
   "source": [
    "Ora che abbiamo creato queste nuove features che saranno utili ad addestrare il modello, possiamo eliminare quelle features che non ci servono più, ovvero: `tamponi`, `totale_positivi_test_molecolare`, `totale_positivi_test_antigenico_rapido\t`, `tamponi_test_molecolare`, `tamponi_test_antigenico_rapido`"
   ]
  },
  {
   "cell_type": "code",
   "execution_count": 18,
   "id": "1ddd3e4a",
   "metadata": {
    "colab": {
     "base_uri": "https://localhost:8080/",
     "height": 455
    },
    "executionInfo": {
     "elapsed": 309,
     "status": "ok",
     "timestamp": 1724777323412,
     "user": {
      "displayName": "leonardo viola",
      "userId": "05669561941182783016"
     },
     "user_tz": -120
    },
    "id": "1ddd3e4a",
    "outputId": "cc789f1f-e6be-461a-bbf0-f53b10f25e0e"
   },
   "outputs": [
    {
     "data": {
      "text/html": [
       "<div>\n",
       "<style scoped>\n",
       "    .dataframe tbody tr th:only-of-type {\n",
       "        vertical-align: middle;\n",
       "    }\n",
       "\n",
       "    .dataframe tbody tr th {\n",
       "        vertical-align: top;\n",
       "    }\n",
       "\n",
       "    .dataframe thead th {\n",
       "        text-align: right;\n",
       "    }\n",
       "</style>\n",
       "<table border=\"1\" class=\"dataframe\">\n",
       "  <thead>\n",
       "    <tr style=\"text-align: right;\">\n",
       "      <th></th>\n",
       "      <th>totale_positivi</th>\n",
       "      <th>variazione_totale_positivi</th>\n",
       "      <th>nuovi_positivi</th>\n",
       "      <th>totale_casi</th>\n",
       "      <th>casi_testati</th>\n",
       "      <th>nuovi_tamponi</th>\n",
       "      <th>nuovi_tamponi_rapidi</th>\n",
       "      <th>nuovi_tamponi_molecolari</th>\n",
       "    </tr>\n",
       "    <tr>\n",
       "      <th>data</th>\n",
       "      <th></th>\n",
       "      <th></th>\n",
       "      <th></th>\n",
       "      <th></th>\n",
       "      <th></th>\n",
       "      <th></th>\n",
       "      <th></th>\n",
       "      <th></th>\n",
       "    </tr>\n",
       "  </thead>\n",
       "  <tbody>\n",
       "    <tr>\n",
       "      <th>2020-02-24</th>\n",
       "      <td>221</td>\n",
       "      <td>0</td>\n",
       "      <td>221</td>\n",
       "      <td>229</td>\n",
       "      <td>NaN</td>\n",
       "      <td>4324.0</td>\n",
       "      <td>NaN</td>\n",
       "      <td>NaN</td>\n",
       "    </tr>\n",
       "    <tr>\n",
       "      <th>2020-02-25</th>\n",
       "      <td>311</td>\n",
       "      <td>90</td>\n",
       "      <td>93</td>\n",
       "      <td>322</td>\n",
       "      <td>NaN</td>\n",
       "      <td>4299.0</td>\n",
       "      <td>NaN</td>\n",
       "      <td>NaN</td>\n",
       "    </tr>\n",
       "    <tr>\n",
       "      <th>2020-02-26</th>\n",
       "      <td>385</td>\n",
       "      <td>74</td>\n",
       "      <td>78</td>\n",
       "      <td>400</td>\n",
       "      <td>NaN</td>\n",
       "      <td>964.0</td>\n",
       "      <td>NaN</td>\n",
       "      <td>NaN</td>\n",
       "    </tr>\n",
       "    <tr>\n",
       "      <th>2020-02-27</th>\n",
       "      <td>588</td>\n",
       "      <td>203</td>\n",
       "      <td>250</td>\n",
       "      <td>650</td>\n",
       "      <td>NaN</td>\n",
       "      <td>2427.0</td>\n",
       "      <td>NaN</td>\n",
       "      <td>NaN</td>\n",
       "    </tr>\n",
       "    <tr>\n",
       "      <th>2020-02-28</th>\n",
       "      <td>821</td>\n",
       "      <td>233</td>\n",
       "      <td>238</td>\n",
       "      <td>888</td>\n",
       "      <td>NaN</td>\n",
       "      <td>3681.0</td>\n",
       "      <td>NaN</td>\n",
       "      <td>NaN</td>\n",
       "    </tr>\n",
       "    <tr>\n",
       "      <th>...</th>\n",
       "      <td>...</td>\n",
       "      <td>...</td>\n",
       "      <td>...</td>\n",
       "      <td>...</td>\n",
       "      <td>...</td>\n",
       "      <td>...</td>\n",
       "      <td>...</td>\n",
       "      <td>...</td>\n",
       "    </tr>\n",
       "    <tr>\n",
       "      <th>2024-08-17</th>\n",
       "      <td>198278</td>\n",
       "      <td>1548</td>\n",
       "      <td>2271</td>\n",
       "      <td>26825798</td>\n",
       "      <td>70368338.0</td>\n",
       "      <td>11072.0</td>\n",
       "      <td>9953.0</td>\n",
       "      <td>1119.0</td>\n",
       "    </tr>\n",
       "    <tr>\n",
       "      <th>2024-08-18</th>\n",
       "      <td>198995</td>\n",
       "      <td>717</td>\n",
       "      <td>1426</td>\n",
       "      <td>26827224</td>\n",
       "      <td>70369770.0</td>\n",
       "      <td>8604.0</td>\n",
       "      <td>7717.0</td>\n",
       "      <td>887.0</td>\n",
       "    </tr>\n",
       "    <tr>\n",
       "      <th>2024-08-19</th>\n",
       "      <td>199122</td>\n",
       "      <td>127</td>\n",
       "      <td>956</td>\n",
       "      <td>26828180</td>\n",
       "      <td>70370959.0</td>\n",
       "      <td>6012.0</td>\n",
       "      <td>5436.0</td>\n",
       "      <td>576.0</td>\n",
       "    </tr>\n",
       "    <tr>\n",
       "      <th>2024-08-20</th>\n",
       "      <td>200515</td>\n",
       "      <td>1393</td>\n",
       "      <td>3339</td>\n",
       "      <td>26831519</td>\n",
       "      <td>70373411.0</td>\n",
       "      <td>18307.0</td>\n",
       "      <td>16601.0</td>\n",
       "      <td>1706.0</td>\n",
       "    </tr>\n",
       "    <tr>\n",
       "      <th>2024-08-21</th>\n",
       "      <td>201614</td>\n",
       "      <td>1099</td>\n",
       "      <td>2492</td>\n",
       "      <td>26834011</td>\n",
       "      <td>70375335.0</td>\n",
       "      <td>12158.0</td>\n",
       "      <td>10653.0</td>\n",
       "      <td>1505.0</td>\n",
       "    </tr>\n",
       "  </tbody>\n",
       "</table>\n",
       "<p>1641 rows × 8 columns</p>\n",
       "</div>"
      ],
      "text/plain": [
       "            totale_positivi  variazione_totale_positivi  nuovi_positivi  \\\n",
       "data                                                                      \n",
       "2020-02-24              221                           0             221   \n",
       "2020-02-25              311                          90              93   \n",
       "2020-02-26              385                          74              78   \n",
       "2020-02-27              588                         203             250   \n",
       "2020-02-28              821                         233             238   \n",
       "...                     ...                         ...             ...   \n",
       "2024-08-17           198278                        1548            2271   \n",
       "2024-08-18           198995                         717            1426   \n",
       "2024-08-19           199122                         127             956   \n",
       "2024-08-20           200515                        1393            3339   \n",
       "2024-08-21           201614                        1099            2492   \n",
       "\n",
       "            totale_casi  casi_testati  nuovi_tamponi  nuovi_tamponi_rapidi  \\\n",
       "data                                                                         \n",
       "2020-02-24          229           NaN         4324.0                   NaN   \n",
       "2020-02-25          322           NaN         4299.0                   NaN   \n",
       "2020-02-26          400           NaN          964.0                   NaN   \n",
       "2020-02-27          650           NaN         2427.0                   NaN   \n",
       "2020-02-28          888           NaN         3681.0                   NaN   \n",
       "...                 ...           ...            ...                   ...   \n",
       "2024-08-17     26825798    70368338.0        11072.0                9953.0   \n",
       "2024-08-18     26827224    70369770.0         8604.0                7717.0   \n",
       "2024-08-19     26828180    70370959.0         6012.0                5436.0   \n",
       "2024-08-20     26831519    70373411.0        18307.0               16601.0   \n",
       "2024-08-21     26834011    70375335.0        12158.0               10653.0   \n",
       "\n",
       "            nuovi_tamponi_molecolari  \n",
       "data                                  \n",
       "2020-02-24                       NaN  \n",
       "2020-02-25                       NaN  \n",
       "2020-02-26                       NaN  \n",
       "2020-02-27                       NaN  \n",
       "2020-02-28                       NaN  \n",
       "...                              ...  \n",
       "2024-08-17                    1119.0  \n",
       "2024-08-18                     887.0  \n",
       "2024-08-19                     576.0  \n",
       "2024-08-20                    1706.0  \n",
       "2024-08-21                    1505.0  \n",
       "\n",
       "[1641 rows x 8 columns]"
      ]
     },
     "execution_count": 18,
     "metadata": {},
     "output_type": "execute_result"
    }
   ],
   "source": [
    "dataset = dataset.drop(['tamponi', 'totale_positivi_test_molecolare', 'totale_positivi_test_antigenico_rapido', 'tamponi_test_molecolare', 'tamponi_test_antigenico_rapido'], axis=1)\n",
    "dataset"
   ]
  },
  {
   "cell_type": "markdown",
   "id": "53992987",
   "metadata": {
    "id": "53992987"
   },
   "source": [
    "Osservando il dataframe notiamo che ci sono ancora delle features che non sono utili a predire la variabile target, e quindi procedo ad eliminarle, per questo elimino `totale_positivi\t`, `variazione_totale_positivi`, `totale_casi` e `casi_testati`"
   ]
  },
  {
   "cell_type": "code",
   "execution_count": 19,
   "id": "61c66baf",
   "metadata": {
    "colab": {
     "base_uri": "https://localhost:8080/",
     "height": 455
    },
    "executionInfo": {
     "elapsed": 319,
     "status": "ok",
     "timestamp": 1724777327355,
     "user": {
      "displayName": "leonardo viola",
      "userId": "05669561941182783016"
     },
     "user_tz": -120
    },
    "id": "61c66baf",
    "outputId": "57d93d81-3881-434f-af7e-3b14b3e5b394"
   },
   "outputs": [
    {
     "data": {
      "text/html": [
       "<div>\n",
       "<style scoped>\n",
       "    .dataframe tbody tr th:only-of-type {\n",
       "        vertical-align: middle;\n",
       "    }\n",
       "\n",
       "    .dataframe tbody tr th {\n",
       "        vertical-align: top;\n",
       "    }\n",
       "\n",
       "    .dataframe thead th {\n",
       "        text-align: right;\n",
       "    }\n",
       "</style>\n",
       "<table border=\"1\" class=\"dataframe\">\n",
       "  <thead>\n",
       "    <tr style=\"text-align: right;\">\n",
       "      <th></th>\n",
       "      <th>nuovi_positivi</th>\n",
       "      <th>nuovi_tamponi</th>\n",
       "      <th>nuovi_tamponi_rapidi</th>\n",
       "      <th>nuovi_tamponi_molecolari</th>\n",
       "    </tr>\n",
       "    <tr>\n",
       "      <th>data</th>\n",
       "      <th></th>\n",
       "      <th></th>\n",
       "      <th></th>\n",
       "      <th></th>\n",
       "    </tr>\n",
       "  </thead>\n",
       "  <tbody>\n",
       "    <tr>\n",
       "      <th>2020-02-24</th>\n",
       "      <td>221</td>\n",
       "      <td>4324.0</td>\n",
       "      <td>NaN</td>\n",
       "      <td>NaN</td>\n",
       "    </tr>\n",
       "    <tr>\n",
       "      <th>2020-02-25</th>\n",
       "      <td>93</td>\n",
       "      <td>4299.0</td>\n",
       "      <td>NaN</td>\n",
       "      <td>NaN</td>\n",
       "    </tr>\n",
       "    <tr>\n",
       "      <th>2020-02-26</th>\n",
       "      <td>78</td>\n",
       "      <td>964.0</td>\n",
       "      <td>NaN</td>\n",
       "      <td>NaN</td>\n",
       "    </tr>\n",
       "    <tr>\n",
       "      <th>2020-02-27</th>\n",
       "      <td>250</td>\n",
       "      <td>2427.0</td>\n",
       "      <td>NaN</td>\n",
       "      <td>NaN</td>\n",
       "    </tr>\n",
       "    <tr>\n",
       "      <th>2020-02-28</th>\n",
       "      <td>238</td>\n",
       "      <td>3681.0</td>\n",
       "      <td>NaN</td>\n",
       "      <td>NaN</td>\n",
       "    </tr>\n",
       "    <tr>\n",
       "      <th>...</th>\n",
       "      <td>...</td>\n",
       "      <td>...</td>\n",
       "      <td>...</td>\n",
       "      <td>...</td>\n",
       "    </tr>\n",
       "    <tr>\n",
       "      <th>2024-08-17</th>\n",
       "      <td>2271</td>\n",
       "      <td>11072.0</td>\n",
       "      <td>9953.0</td>\n",
       "      <td>1119.0</td>\n",
       "    </tr>\n",
       "    <tr>\n",
       "      <th>2024-08-18</th>\n",
       "      <td>1426</td>\n",
       "      <td>8604.0</td>\n",
       "      <td>7717.0</td>\n",
       "      <td>887.0</td>\n",
       "    </tr>\n",
       "    <tr>\n",
       "      <th>2024-08-19</th>\n",
       "      <td>956</td>\n",
       "      <td>6012.0</td>\n",
       "      <td>5436.0</td>\n",
       "      <td>576.0</td>\n",
       "    </tr>\n",
       "    <tr>\n",
       "      <th>2024-08-20</th>\n",
       "      <td>3339</td>\n",
       "      <td>18307.0</td>\n",
       "      <td>16601.0</td>\n",
       "      <td>1706.0</td>\n",
       "    </tr>\n",
       "    <tr>\n",
       "      <th>2024-08-21</th>\n",
       "      <td>2492</td>\n",
       "      <td>12158.0</td>\n",
       "      <td>10653.0</td>\n",
       "      <td>1505.0</td>\n",
       "    </tr>\n",
       "  </tbody>\n",
       "</table>\n",
       "<p>1641 rows × 4 columns</p>\n",
       "</div>"
      ],
      "text/plain": [
       "            nuovi_positivi  nuovi_tamponi  nuovi_tamponi_rapidi  \\\n",
       "data                                                              \n",
       "2020-02-24             221         4324.0                   NaN   \n",
       "2020-02-25              93         4299.0                   NaN   \n",
       "2020-02-26              78          964.0                   NaN   \n",
       "2020-02-27             250         2427.0                   NaN   \n",
       "2020-02-28             238         3681.0                   NaN   \n",
       "...                    ...            ...                   ...   \n",
       "2024-08-17            2271        11072.0                9953.0   \n",
       "2024-08-18            1426         8604.0                7717.0   \n",
       "2024-08-19             956         6012.0                5436.0   \n",
       "2024-08-20            3339        18307.0               16601.0   \n",
       "2024-08-21            2492        12158.0               10653.0   \n",
       "\n",
       "            nuovi_tamponi_molecolari  \n",
       "data                                  \n",
       "2020-02-24                       NaN  \n",
       "2020-02-25                       NaN  \n",
       "2020-02-26                       NaN  \n",
       "2020-02-27                       NaN  \n",
       "2020-02-28                       NaN  \n",
       "...                              ...  \n",
       "2024-08-17                    1119.0  \n",
       "2024-08-18                     887.0  \n",
       "2024-08-19                     576.0  \n",
       "2024-08-20                    1706.0  \n",
       "2024-08-21                    1505.0  \n",
       "\n",
       "[1641 rows x 4 columns]"
      ]
     },
     "execution_count": 19,
     "metadata": {},
     "output_type": "execute_result"
    }
   ],
   "source": [
    "dataset = dataset.drop(['totale_positivi', 'variazione_totale_positivi', 'totale_casi', 'casi_testati'], axis=1)\n",
    "dataset"
   ]
  },
  {
   "cell_type": "markdown",
   "id": "7c77a151",
   "metadata": {
    "id": "7c77a151"
   },
   "source": [
    "Delle 24 features iniziali sono ancora presenti la variabile target `nuovi_positivi` e l'indice `data`, mentre le altre 3 features presenti nel dataframe sono le features create nei passi precedenti e che sono state derivate da altre features che poi sono state eliminate"
   ]
  },
  {
   "cell_type": "markdown",
   "id": "be84f550",
   "metadata": {
    "id": "be84f550"
   },
   "source": [
    "# Rilevazione valori nulli"
   ]
  },
  {
   "cell_type": "markdown",
   "id": "681cec72",
   "metadata": {
    "id": "681cec72"
   },
   "source": [
    "Alcuni valori del dataset sono nulli (valore Nan), infatti:"
   ]
  },
  {
   "cell_type": "code",
   "execution_count": 20,
   "id": "ca3889f2",
   "metadata": {
    "colab": {
     "base_uri": "https://localhost:8080/",
     "height": 209
    },
    "executionInfo": {
     "elapsed": 273,
     "status": "ok",
     "timestamp": 1724777339242,
     "user": {
      "displayName": "leonardo viola",
      "userId": "05669561941182783016"
     },
     "user_tz": -120
    },
    "id": "ca3889f2",
    "outputId": "c52c24f0-ba2b-41ba-c27f-3eb6325ed7cd"
   },
   "outputs": [
    {
     "data": {
      "text/plain": [
       "nuovi_positivi                0\n",
       "nuovi_tamponi                 0\n",
       "nuovi_tamponi_rapidi        327\n",
       "nuovi_tamponi_molecolari    327\n",
       "dtype: int64"
      ]
     },
     "execution_count": 20,
     "metadata": {},
     "output_type": "execute_result"
    }
   ],
   "source": [
    "dataset.isna().sum()"
   ]
  },
  {
   "cell_type": "markdown",
   "id": "9a3ded93",
   "metadata": {
    "id": "9a3ded93"
   },
   "source": [
    "Notiamo che i valori Nan non sono relativi al totale dei tamponi e dei nuovi positivi, ma al numero dei tamponi rapidi e molecolari giornalieri.\n",
    "\n",
    "Dato che la somma dei tamponi rapidi e dei tamponi molecolari giornalieri deve essere pari al numero di tamponi effettuati in una certa data, potremmo suddividere a metà il numero dei tamponi effettuati ed assegnare questi valori ai rispettivi valori Nan.\n",
    "\n",
    "Esempio:\n",
    "\n",
    "*nuovi_tamponi_rapidi* = nuovi_tamponi / 2\n",
    "\n",
    "*nuovi_tamponi_molecolari* = nuovi_tamponi / 2"
   ]
  },
  {
   "cell_type": "markdown",
   "id": "bc38a5dd",
   "metadata": {
    "id": "bc38a5dd"
   },
   "source": [
    "Posso effettuare questa modifica perché i valori Nan sono relativi agli stessi record tra le diverse features, infatti (ricordando che ci sono 327 valori a Nan per ogni feature):"
   ]
  },
  {
   "cell_type": "code",
   "execution_count": 21,
   "id": "c0347efa",
   "metadata": {
    "id": "c0347efa",
    "outputId": "421d29f7-eb37-46cc-e1f2-547b3865b1ef"
   },
   "outputs": [
    {
     "data": {
      "text/plain": [
       "327"
      ]
     },
     "execution_count": 21,
     "metadata": {},
     "output_type": "execute_result"
    }
   ],
   "source": [
    "(dataset[\"nuovi_tamponi_rapidi\"].isna() & dataset[\"nuovi_tamponi_molecolari\"].isna()).sum()"
   ]
  },
  {
   "cell_type": "markdown",
   "id": "e636b50c",
   "metadata": {
    "id": "e636b50c"
   },
   "source": [
    "Procedo all'assegnamento dei dati:"
   ]
  },
  {
   "cell_type": "code",
   "execution_count": 22,
   "id": "3ac32fa2",
   "metadata": {
    "id": "3ac32fa2"
   },
   "outputs": [],
   "source": [
    "nanValues = dataset[\"nuovi_tamponi_rapidi\"].isna()\n",
    "dataset[\"nuovi_tamponi_molecolari\"].loc[nanValues] = dataset[\"nuovi_tamponi\"].loc[nanValues] / 2\n",
    "dataset[\"nuovi_tamponi_rapidi\"].loc[nanValues] = dataset[\"nuovi_tamponi\"].loc[nanValues] / 2"
   ]
  },
  {
   "cell_type": "code",
   "execution_count": 24,
   "id": "f68c93df",
   "metadata": {
    "colab": {
     "base_uri": "https://localhost:8080/",
     "height": 209
    },
    "executionInfo": {
     "elapsed": 291,
     "status": "ok",
     "timestamp": 1724777490598,
     "user": {
      "displayName": "leonardo viola",
      "userId": "05669561941182783016"
     },
     "user_tz": -120
    },
    "id": "f68c93df",
    "outputId": "914bcae4-da69-4481-d272-337fdf6f1fd8"
   },
   "outputs": [
    {
     "data": {
      "text/plain": [
       "nuovi_positivi              0\n",
       "nuovi_tamponi               0\n",
       "nuovi_tamponi_rapidi        0\n",
       "nuovi_tamponi_molecolari    0\n",
       "dtype: int64"
      ]
     },
     "execution_count": 24,
     "metadata": {},
     "output_type": "execute_result"
    }
   ],
   "source": [
    "dataset.isna().sum()"
   ]
  },
  {
   "cell_type": "markdown",
   "id": "3de26cf0",
   "metadata": {
    "id": "3de26cf0"
   },
   "source": [
    "Controlliamo ora la consistenza del dataframe, ovvero se la somma dei tamponi rapidi e molecolari giornalieri equivale al numero di tamponi effettuati per una certa data (Ricordando che il nostro dataset ha 1641 records)."
   ]
  },
  {
   "cell_type": "code",
   "execution_count": 25,
   "id": "3b16fc62",
   "metadata": {
    "colab": {
     "base_uri": "https://localhost:8080/"
    },
    "executionInfo": {
     "elapsed": 4,
     "status": "ok",
     "timestamp": 1724777544667,
     "user": {
      "displayName": "leonardo viola",
      "userId": "05669561941182783016"
     },
     "user_tz": -120
    },
    "id": "3b16fc62",
    "outputId": "733c3046-3d89-4c25-b95a-13837541f3b5"
   },
   "outputs": [
    {
     "data": {
      "text/plain": [
       "1641"
      ]
     },
     "execution_count": 25,
     "metadata": {},
     "output_type": "execute_result"
    }
   ],
   "source": [
    "(dataset[\"nuovi_tamponi\"] == (dataset[\"nuovi_tamponi_rapidi\"] + dataset[\"nuovi_tamponi_molecolari\"])).sum()"
   ]
  },
  {
   "cell_type": "markdown",
   "id": "a80d679b",
   "metadata": {
    "id": "a80d679b"
   },
   "source": [
    "Notiamo che la somma dei tamponi rapidi e dei tamponi molecolari equivale al numero di nuovi tamponi giornaliero per ogni riga."
   ]
  },
  {
   "cell_type": "markdown",
   "id": "37158d43",
   "metadata": {
    "id": "37158d43"
   },
   "source": [
    "# Analisi dei dati"
   ]
  },
  {
   "cell_type": "markdown",
   "id": "13591ae7",
   "metadata": {
    "id": "13591ae7"
   },
   "source": [
    "Osserviamo ora alcuni dati sul dataframe:"
   ]
  },
  {
   "cell_type": "code",
   "execution_count": 26,
   "id": "37025965",
   "metadata": {
    "colab": {
     "base_uri": "https://localhost:8080/",
     "height": 300
    },
    "executionInfo": {
     "elapsed": 313,
     "status": "ok",
     "timestamp": 1724777577813,
     "user": {
      "displayName": "leonardo viola",
      "userId": "05669561941182783016"
     },
     "user_tz": -120
    },
    "id": "37025965",
    "outputId": "a37b444c-acfe-4309-bd39-3cde237b7fe5"
   },
   "outputs": [
    {
     "data": {
      "text/html": [
       "<div>\n",
       "<style scoped>\n",
       "    .dataframe tbody tr th:only-of-type {\n",
       "        vertical-align: middle;\n",
       "    }\n",
       "\n",
       "    .dataframe tbody tr th {\n",
       "        vertical-align: top;\n",
       "    }\n",
       "\n",
       "    .dataframe thead th {\n",
       "        text-align: right;\n",
       "    }\n",
       "</style>\n",
       "<table border=\"1\" class=\"dataframe\">\n",
       "  <thead>\n",
       "    <tr style=\"text-align: right;\">\n",
       "      <th></th>\n",
       "      <th>nuovi_positivi</th>\n",
       "      <th>nuovi_tamponi</th>\n",
       "      <th>nuovi_tamponi_rapidi</th>\n",
       "      <th>nuovi_tamponi_molecolari</th>\n",
       "    </tr>\n",
       "  </thead>\n",
       "  <tbody>\n",
       "    <tr>\n",
       "      <th>count</th>\n",
       "      <td>1641.000000</td>\n",
       "      <td>1.641000e+03</td>\n",
       "      <td>1.641000e+03</td>\n",
       "      <td>1641.000000</td>\n",
       "    </tr>\n",
       "    <tr>\n",
       "      <th>mean</th>\n",
       "      <td>16167.581962</td>\n",
       "      <td>1.724611e+05</td>\n",
       "      <td>1.182705e+05</td>\n",
       "      <td>54190.642291</td>\n",
       "    </tr>\n",
       "    <tr>\n",
       "      <th>std</th>\n",
       "      <td>28741.107645</td>\n",
       "      <td>2.101798e+05</td>\n",
       "      <td>1.583326e+05</td>\n",
       "      <td>63136.989721</td>\n",
       "    </tr>\n",
       "    <tr>\n",
       "      <th>min</th>\n",
       "      <td>30.000000</td>\n",
       "      <td>9.640000e+02</td>\n",
       "      <td>4.820000e+02</td>\n",
       "      <td>422.000000</td>\n",
       "    </tr>\n",
       "    <tr>\n",
       "      <th>25%</th>\n",
       "      <td>1215.000000</td>\n",
       "      <td>3.117800e+04</td>\n",
       "      <td>2.286700e+04</td>\n",
       "      <td>4973.000000</td>\n",
       "    </tr>\n",
       "    <tr>\n",
       "      <th>50%</th>\n",
       "      <td>4720.000000</td>\n",
       "      <td>9.270600e+04</td>\n",
       "      <td>5.859100e+04</td>\n",
       "      <td>29336.500000</td>\n",
       "    </tr>\n",
       "    <tr>\n",
       "      <th>75%</th>\n",
       "      <td>18765.000000</td>\n",
       "      <td>2.386320e+05</td>\n",
       "      <td>1.482530e+05</td>\n",
       "      <td>88092.500000</td>\n",
       "    </tr>\n",
       "    <tr>\n",
       "      <th>max</th>\n",
       "      <td>220532.000000</td>\n",
       "      <td>1.481349e+06</td>\n",
       "      <td>1.335109e+06</td>\n",
       "      <td>366164.000000</td>\n",
       "    </tr>\n",
       "  </tbody>\n",
       "</table>\n",
       "</div>"
      ],
      "text/plain": [
       "       nuovi_positivi  nuovi_tamponi  nuovi_tamponi_rapidi  \\\n",
       "count     1641.000000   1.641000e+03          1.641000e+03   \n",
       "mean     16167.581962   1.724611e+05          1.182705e+05   \n",
       "std      28741.107645   2.101798e+05          1.583326e+05   \n",
       "min         30.000000   9.640000e+02          4.820000e+02   \n",
       "25%       1215.000000   3.117800e+04          2.286700e+04   \n",
       "50%       4720.000000   9.270600e+04          5.859100e+04   \n",
       "75%      18765.000000   2.386320e+05          1.482530e+05   \n",
       "max     220532.000000   1.481349e+06          1.335109e+06   \n",
       "\n",
       "       nuovi_tamponi_molecolari  \n",
       "count               1641.000000  \n",
       "mean               54190.642291  \n",
       "std                63136.989721  \n",
       "min                  422.000000  \n",
       "25%                 4973.000000  \n",
       "50%                29336.500000  \n",
       "75%                88092.500000  \n",
       "max               366164.000000  "
      ]
     },
     "execution_count": 26,
     "metadata": {},
     "output_type": "execute_result"
    }
   ],
   "source": [
    "dataset.describe()"
   ]
  },
  {
   "cell_type": "markdown",
   "id": "95355a56",
   "metadata": {
    "id": "95355a56"
   },
   "source": [
    "Per ogni features i valori minimi sono tutti positivi, come è giusto che sia, quindi le features aggiunte sono state calcolate correttamente, inoltre possiamo osservare che la media giornaliera di tamponi rapidi effettuati è di molto superiore a quella dei tamponi molecolari.\n",
    "\n",
    "Infatti lo si può evincere anche dal seguente grafico:"
   ]
  },
  {
   "cell_type": "code",
   "execution_count": 27,
   "id": "e5f2b4ee",
   "metadata": {
    "colab": {
     "base_uri": "https://localhost:8080/",
     "height": 428
    },
    "executionInfo": {
     "elapsed": 405,
     "status": "ok",
     "timestamp": 1724777618538,
     "user": {
      "displayName": "leonardo viola",
      "userId": "05669561941182783016"
     },
     "user_tz": -120
    },
    "id": "e5f2b4ee",
    "outputId": "334aa533-6298-479f-d091-6a8356b8c4f4"
   },
   "outputs": [
    {
     "data": {
      "image/png": "[encoded data removed]",
      "text/plain": [
       "<Figure size 432x288 with 1 Axes>"
      ]
     },
     "metadata": {},
     "output_type": "display_data"
    }
   ],
   "source": [
    "tamponi = dataset[[\"nuovi_tamponi_rapidi\", \"nuovi_tamponi_molecolari\"]].sum()\n",
    "\n",
    "plt.pie(tamponi, labels=['Totale tamponi rapidi','Totale tamponi molecolari'], autopct='%1.1f%%', startangle=90)\n",
    "plt.title('Somme dei tamponi rapidi e molecolari')\n",
    "plt.show()\n"
   ]
  },
  {
   "cell_type": "markdown",
   "id": "188440ae",
   "metadata": {
    "id": "188440ae"
   },
   "source": [
    "Come prevedibile notiamo che il numero dei tamponi rapidi è più alto del numero di tamponi molecolari, ciò è giustificato dai costi ed i tempi di attesa per i tamponi rapidi, che sono inferiori a quelli dei tamponi molecolari."
   ]
  },
  {
   "cell_type": "markdown",
   "id": "f49d646b",
   "metadata": {
    "id": "f49d646b"
   },
   "source": [
    "Osservando invece il grafico dei nuovi positivi e dei tamponi giornalieri, possiamo osservere grande sparsità di dati:"
   ]
  },
  {
   "cell_type": "code",
   "execution_count": 28,
   "id": "c3d59795",
   "metadata": {
    "colab": {
     "base_uri": "https://localhost:8080/",
     "height": 713
    },
    "executionInfo": {
     "elapsed": 853,
     "status": "ok",
     "timestamp": 1724778602859,
     "user": {
      "displayName": "leonardo viola",
      "userId": "05669561941182783016"
     },
     "user_tz": -120
    },
    "id": "c3d59795",
    "outputId": "c4cc150d-c612-4628-e29a-2555a0cbaf5d"
   },
   "outputs": [
    {
     "data": {
      "text/plain": [
       "<AxesSubplot:xlabel='nuovi_tamponi', ylabel='nuovi_positivi'>"
      ]
     },
     "execution_count": 28,
     "metadata": {},
     "output_type": "execute_result"
    },
    {
     "data": {
      "image/png": "[encoded data removed]",
      "text/plain": [
       "<Figure size 1080x576 with 1 Axes>"
      ]
     },
     "metadata": {
      "needs_background": "light"
     },
     "output_type": "display_data"
    }
   ],
   "source": [
    "dataset.plot.scatter(\"nuovi_tamponi\", \"nuovi_positivi\", figsize = (15,8))"
   ]
  },
  {
   "cell_type": "markdown",
   "id": "42381b8f",
   "metadata": {
    "id": "42381b8f"
   },
   "source": [
    "La sparsità dei dati è dovuta al diverso andamento dell'epidemia nel tempo, con periodi dove il numero dei positivi era molto alto, e periodi in cui il numero di nuovi positivi era basso, questo dataset raccoglie dati da inizio 2020 fino ad oggi, quindi sono presenti sia i dati relativi ai periodi di 'piena emergenza' sia relativi all'ultimo anno e mezzo in cui l'emergenza è finita.\n",
    "\n",
    "Proviamo ora a visualizzare dei grafici che ci fanno capire meglio l'andamneto dell'epidemia nel tempo:"
   ]
  },
  {
   "cell_type": "code",
   "execution_count": 29,
   "id": "3f88e2c8",
   "metadata": {
    "id": "3f88e2c8"
   },
   "outputs": [],
   "source": [
    "indici = pd.to_datetime(dataset.index)\n",
    "\n",
    "#2020\n",
    "meta_2020 = pd.to_datetime('2020-08-01')\n",
    "\n",
    "#2021\n",
    "inizio_2021 = pd.to_datetime('2021-01-01')\n",
    "meta_2021 = pd.to_datetime('2021-07-01')\n",
    "\n",
    "#2022\n",
    "inizio_2022 = pd.to_datetime('2022-01-01')\n",
    "\n",
    "primo_quarto_2022 = pd.to_datetime('2022-04-01')\n",
    "meta_2022 = pd.to_datetime('2022-07-01')\n",
    "terzo_quarto_2022 = pd.to_datetime('2022-10-01')\n",
    "\n",
    "#2023\n",
    "inizio_2023 = pd.to_datetime('2023-01-01')\n",
    "meta_2023 = pd.to_datetime('2023-07-01')\n",
    "\n",
    "#2024\n",
    "inizio_2024 = pd.to_datetime('2024-01-01')\n",
    "\n",
    "#### CREO I DATASET\n",
    "\n",
    "dataset1_2020 = dataset[indici < meta_2020]\n",
    "dataset2_2020 = dataset[(indici > meta_2020 ) & (indici < inizio_2021)]\n",
    "\n",
    "#2021\n",
    "dataset1_2021 = dataset[(indici > inizio_2021) & (indici < meta_2021)]\n",
    "dataset2_2021 = dataset[(indici > meta_2021) & (indici < inizio_2022)]\n",
    "\n",
    "#2022\n",
    "dataset1_2022 = dataset[(indici > inizio_2022) & (indici < meta_2022)]\n",
    "dataset2_2022 = dataset[(indici > meta_2022) & (indici < inizio_2023)]\n",
    "\n",
    "#2023\n",
    "dataset_2023 = dataset[(indici > inizio_2023) & (indici < inizio_2024)]\n",
    "dataset1_2023 = dataset[(indici > inizio_2023) & (indici < meta_2023)]\n",
    "dataset2_2023 = dataset[(indici > meta_2023) & (indici < inizio_2024)]\n",
    "\n",
    "#2024\n",
    "dataset_2024 = dataset[(indici > inizio_2024)]"
   ]
  },
  {
   "cell_type": "markdown",
   "id": "e814aa0f",
   "metadata": {
    "id": "e814aa0f"
   },
   "source": [
    "Una volta creati i dataset in base all'anno, vediamo i risultati graficamente, prima però creiamo una funzione che richiameremo poi per ogni dataset:"
   ]
  },
  {
   "cell_type": "code",
   "execution_count": 30,
   "id": "9db4d958",
   "metadata": {
    "id": "9db4d958"
   },
   "outputs": [],
   "source": [
    "def plot_grafico(dataset1, dataset2, label1, label2, title):\n",
    "    # Creare il grafico\n",
    "    plt.figure(figsize=(10, 6))\n",
    "    plt.scatter(dataset1[\"nuovi_tamponi\"], dataset1[\"nuovi_positivi\"], label=label1, color=\"blue\")\n",
    "    plt.scatter(dataset2['nuovi_tamponi'], dataset2['nuovi_positivi'], label=label2, color=\"red\")\n",
    "\n",
    "    # Aggiungere etichette e titolo\n",
    "    plt.xlabel('Tamponi Giornalieri')\n",
    "    plt.ylabel('Positivi Giornalieri')\n",
    "    plt.title(title)\n",
    "    plt.legend()"
   ]
  },
  {
   "cell_type": "markdown",
   "id": "w6Bkfg0jxHR8",
   "metadata": {
    "id": "w6Bkfg0jxHR8"
   },
   "source": [
    "Mostro i grafici:"
   ]
  },
  {
   "cell_type": "code",
   "execution_count": 31,
   "id": "73bb60c7",
   "metadata": {
    "colab": {
     "base_uri": "https://localhost:8080/",
     "height": 1000
    },
    "executionInfo": {
     "elapsed": 2231,
     "status": "ok",
     "timestamp": 1724777875562,
     "user": {
      "displayName": "leonardo viola",
      "userId": "05669561941182783016"
     },
     "user_tz": -120
    },
    "id": "73bb60c7",
    "outputId": "3af0cd65-03ac-4fb9-8b77-c90b9a6aac04"
   },
   "outputs": [
    {
     "data": {
      "image/png": "[encoded data removed]",
      "text/plain": [
       "<Figure size 720x432 with 1 Axes>"
      ]
     },
     "metadata": {
      "needs_background": "light"
     },
     "output_type": "display_data"
    },
    {
     "data": {
      "image/png": "[encoded data removed]",
      "text/plain": [
       "<Figure size 720x432 with 1 Axes>"
      ]
     },
     "metadata": {
      "needs_background": "light"
     },
     "output_type": "display_data"
    },
    {
     "data": {
      "image/png": "[encoded data removed]",
      "text/plain": [
       "<Figure size 720x432 with 1 Axes>"
      ]
     },
     "metadata": {
      "needs_background": "light"
     },
     "output_type": "display_data"
    },
    {
     "data": {
      "image/png": "[encoded data removed]",
      "text/plain": [
       "<Figure size 720x432 with 1 Axes>"
      ]
     },
     "metadata": {
      "needs_background": "light"
     },
     "output_type": "display_data"
    }
   ],
   "source": [
    "#2020\n",
    "title = f\"Grafico che rappresenta in blu l'andamento nella Prima metà 2020 e nella Seconda metà 2020\"\n",
    "plot_grafico(dataset1_2020, dataset2_2020, \"Prima metà 2020\", \"Seconda metà 2020\", title)\n",
    "\n",
    "\n",
    "#2021\n",
    "title = f\"Grafico che rappresenta in blu l'andamento nella Prima metà 2021 e nella Seconda metà 2021\"\n",
    "plot_grafico(dataset1_2021, dataset2_2021, \"Prima metà 2021\", \"Seconda metà 2021\", title)\n",
    "\n",
    "\n",
    "#2022\n",
    "title = f\"Grafico che rappresenta in blu l'andamento nella Prima metà 2022 e nella Seconda metà 2022\"\n",
    "plot_grafico(dataset1_2022, dataset2_2022, \"Prima metà 2022\", \"Seconda metà 2022\", title)\n",
    "\n",
    "\n",
    "#2023-2024\n",
    "title = f\"Grafico che rappresenta in blu l'andamento nel 2023 e nel 2024\"\n",
    "plot_grafico(dataset_2023, dataset_2024, \"2023\", \"2024\", title)"
   ]
  },
  {
   "cell_type": "markdown",
   "id": "975a0ae7",
   "metadata": {
    "id": "975a0ae7"
   },
   "source": [
    "Ciò che possiamo notare è un andamento del trend dei positivi e quindi una sparsità di dati che cambia di anno in anno, e in alcuni casi anche all'interno dello stesso anno ci sono differenze significative."
   ]
  },
  {
   "cell_type": "markdown",
   "id": "558b3318",
   "metadata": {
    "id": "558b3318"
   },
   "source": [
    "# SUDDIVISIONE DATASET"
   ]
  },
  {
   "cell_type": "markdown",
   "id": "e59992ac",
   "metadata": {
    "id": "e59992ac"
   },
   "source": [
    "Questi grafici ci mostrano che anche il periodo in cui un certo dato è stato acquisito è importante ai fini di predire il numero di nuovi positivi, per questo aggiungeremo al dataset una nuova feature categorica, che per ogni record, conterrà un determinato valore in base alla data di quel record.\n",
    "\n",
    "Creo una funzione che prende come parametri un valore x che indica in quanti sottoinsiemi vogliamo suddividere i dati appartenenti allo stesso anno, e come secondo parametro il nome della feature categorica che verrà creata."
   ]
  },
  {
   "cell_type": "code",
   "execution_count": 32,
   "id": "32acc8bb",
   "metadata": {
    "id": "32acc8bb"
   },
   "outputs": [],
   "source": [
    "#prende in input il parametro x che rappresenta il numero di sottoinsiemi per ogni anno\n",
    "# quindi se ad esempio passo 2 come parametro, ogni anno verrà suddiviso in 2 sottoinsiemi,\n",
    "# e ad ogni record verrà assegnata alla nuova feature un valore in base al sottoinsieme di appartenenza\n",
    "def split_dataset_by_date(x, nome_colonna):\n",
    "    limit = 365 / x\n",
    "    categorical_value = 0\n",
    "    y = 0\n",
    "    for i in range(len(dataset.index)):\n",
    "        #print(f\"data = {dataset.index[i]}; i={i}; categorical_value={categorical_value}; y={y};\")\n",
    "        dataset.loc[dataset.index[i], nome_colonna] = categorical_value\n",
    "        y += 1\n",
    "        if(y >= limit):\n",
    "            y = 0\n",
    "            categorical_value += 1\n"
   ]
  },
  {
   "cell_type": "markdown",
   "id": "1ca44129",
   "metadata": {
    "id": "1ca44129"
   },
   "source": [
    "Ora richiamo la funzione dividendo ogni anno in due parti:"
   ]
  },
  {
   "cell_type": "code",
   "execution_count": 33,
   "id": "1b957238",
   "metadata": {
    "colab": {
     "base_uri": "https://localhost:8080/",
     "height": 455
    },
    "executionInfo": {
     "elapsed": 5,
     "status": "ok",
     "timestamp": 1724777972344,
     "user": {
      "displayName": "leonardo viola",
      "userId": "05669561941182783016"
     },
     "user_tz": -120
    },
    "id": "1b957238",
    "outputId": "f167e324-1e16-4666-da68-6187b1de657c"
   },
   "outputs": [
    {
     "data": {
      "text/html": [
       "<div>\n",
       "<style scoped>\n",
       "    .dataframe tbody tr th:only-of-type {\n",
       "        vertical-align: middle;\n",
       "    }\n",
       "\n",
       "    .dataframe tbody tr th {\n",
       "        vertical-align: top;\n",
       "    }\n",
       "\n",
       "    .dataframe thead th {\n",
       "        text-align: right;\n",
       "    }\n",
       "</style>\n",
       "<table border=\"1\" class=\"dataframe\">\n",
       "  <thead>\n",
       "    <tr style=\"text-align: right;\">\n",
       "      <th></th>\n",
       "      <th>nuovi_positivi</th>\n",
       "      <th>nuovi_tamponi</th>\n",
       "      <th>nuovi_tamponi_rapidi</th>\n",
       "      <th>nuovi_tamponi_molecolari</th>\n",
       "      <th>periodo_appartenenza</th>\n",
       "    </tr>\n",
       "    <tr>\n",
       "      <th>data</th>\n",
       "      <th></th>\n",
       "      <th></th>\n",
       "      <th></th>\n",
       "      <th></th>\n",
       "      <th></th>\n",
       "    </tr>\n",
       "  </thead>\n",
       "  <tbody>\n",
       "    <tr>\n",
       "      <th>2020-02-24</th>\n",
       "      <td>221</td>\n",
       "      <td>4324.0</td>\n",
       "      <td>2162.0</td>\n",
       "      <td>2162.0</td>\n",
       "      <td>0.0</td>\n",
       "    </tr>\n",
       "    <tr>\n",
       "      <th>2020-02-25</th>\n",
       "      <td>93</td>\n",
       "      <td>4299.0</td>\n",
       "      <td>2149.5</td>\n",
       "      <td>2149.5</td>\n",
       "      <td>0.0</td>\n",
       "    </tr>\n",
       "    <tr>\n",
       "      <th>2020-02-26</th>\n",
       "      <td>78</td>\n",
       "      <td>964.0</td>\n",
       "      <td>482.0</td>\n",
       "      <td>482.0</td>\n",
       "      <td>0.0</td>\n",
       "    </tr>\n",
       "    <tr>\n",
       "      <th>2020-02-27</th>\n",
       "      <td>250</td>\n",
       "      <td>2427.0</td>\n",
       "      <td>1213.5</td>\n",
       "      <td>1213.5</td>\n",
       "      <td>0.0</td>\n",
       "    </tr>\n",
       "    <tr>\n",
       "      <th>2020-02-28</th>\n",
       "      <td>238</td>\n",
       "      <td>3681.0</td>\n",
       "      <td>1840.5</td>\n",
       "      <td>1840.5</td>\n",
       "      <td>0.0</td>\n",
       "    </tr>\n",
       "    <tr>\n",
       "      <th>...</th>\n",
       "      <td>...</td>\n",
       "      <td>...</td>\n",
       "      <td>...</td>\n",
       "      <td>...</td>\n",
       "      <td>...</td>\n",
       "    </tr>\n",
       "    <tr>\n",
       "      <th>2024-08-17</th>\n",
       "      <td>2271</td>\n",
       "      <td>11072.0</td>\n",
       "      <td>9953.0</td>\n",
       "      <td>1119.0</td>\n",
       "      <td>8.0</td>\n",
       "    </tr>\n",
       "    <tr>\n",
       "      <th>2024-08-18</th>\n",
       "      <td>1426</td>\n",
       "      <td>8604.0</td>\n",
       "      <td>7717.0</td>\n",
       "      <td>887.0</td>\n",
       "      <td>8.0</td>\n",
       "    </tr>\n",
       "    <tr>\n",
       "      <th>2024-08-19</th>\n",
       "      <td>956</td>\n",
       "      <td>6012.0</td>\n",
       "      <td>5436.0</td>\n",
       "      <td>576.0</td>\n",
       "      <td>8.0</td>\n",
       "    </tr>\n",
       "    <tr>\n",
       "      <th>2024-08-20</th>\n",
       "      <td>3339</td>\n",
       "      <td>18307.0</td>\n",
       "      <td>16601.0</td>\n",
       "      <td>1706.0</td>\n",
       "      <td>8.0</td>\n",
       "    </tr>\n",
       "    <tr>\n",
       "      <th>2024-08-21</th>\n",
       "      <td>2492</td>\n",
       "      <td>12158.0</td>\n",
       "      <td>10653.0</td>\n",
       "      <td>1505.0</td>\n",
       "      <td>8.0</td>\n",
       "    </tr>\n",
       "  </tbody>\n",
       "</table>\n",
       "<p>1641 rows × 5 columns</p>\n",
       "</div>"
      ],
      "text/plain": [
       "            nuovi_positivi  nuovi_tamponi  nuovi_tamponi_rapidi  \\\n",
       "data                                                              \n",
       "2020-02-24             221         4324.0                2162.0   \n",
       "2020-02-25              93         4299.0                2149.5   \n",
       "2020-02-26              78          964.0                 482.0   \n",
       "2020-02-27             250         2427.0                1213.5   \n",
       "2020-02-28             238         3681.0                1840.5   \n",
       "...                    ...            ...                   ...   \n",
       "2024-08-17            2271        11072.0                9953.0   \n",
       "2024-08-18            1426         8604.0                7717.0   \n",
       "2024-08-19             956         6012.0                5436.0   \n",
       "2024-08-20            3339        18307.0               16601.0   \n",
       "2024-08-21            2492        12158.0               10653.0   \n",
       "\n",
       "            nuovi_tamponi_molecolari  periodo_appartenenza  \n",
       "data                                                        \n",
       "2020-02-24                    2162.0                   0.0  \n",
       "2020-02-25                    2149.5                   0.0  \n",
       "2020-02-26                     482.0                   0.0  \n",
       "2020-02-27                    1213.5                   0.0  \n",
       "2020-02-28                    1840.5                   0.0  \n",
       "...                              ...                   ...  \n",
       "2024-08-17                    1119.0                   8.0  \n",
       "2024-08-18                     887.0                   8.0  \n",
       "2024-08-19                     576.0                   8.0  \n",
       "2024-08-20                    1706.0                   8.0  \n",
       "2024-08-21                    1505.0                   8.0  \n",
       "\n",
       "[1641 rows x 5 columns]"
      ]
     },
     "execution_count": 33,
     "metadata": {},
     "output_type": "execute_result"
    }
   ],
   "source": [
    "nome_colonna = 'periodo_appartenenza'\n",
    "split_dataset_by_date(2, nome_colonna)\n",
    "dataset"
   ]
  },
  {
   "cell_type": "markdown",
   "id": "7d8b9f61",
   "metadata": {
    "id": "7d8b9f61"
   },
   "source": [
    "# Convertire la variabile categorica"
   ]
  },
  {
   "cell_type": "markdown",
   "id": "12289d8d",
   "metadata": {
    "id": "12289d8d"
   },
   "source": [
    "Avendo aggiunto al dataframe una variabile categorica che può assumere valori all'interno di un determinato range, trasformo questa feature categorica in n features binarie (One-Hot Encoding):"
   ]
  },
  {
   "cell_type": "code",
   "execution_count": 34,
   "id": "bd8dd276",
   "metadata": {
    "colab": {
     "base_uri": "https://localhost:8080/",
     "height": 455
    },
    "executionInfo": {
     "elapsed": 383,
     "status": "ok",
     "timestamp": 1724777984228,
     "user": {
      "displayName": "leonardo viola",
      "userId": "05669561941182783016"
     },
     "user_tz": -120
    },
    "id": "bd8dd276",
    "outputId": "180140eb-8ae2-423f-b393-0ff824fb5e25"
   },
   "outputs": [
    {
     "data": {
      "text/html": [
       "<div>\n",
       "<style scoped>\n",
       "    .dataframe tbody tr th:only-of-type {\n",
       "        vertical-align: middle;\n",
       "    }\n",
       "\n",
       "    .dataframe tbody tr th {\n",
       "        vertical-align: top;\n",
       "    }\n",
       "\n",
       "    .dataframe thead th {\n",
       "        text-align: right;\n",
       "    }\n",
       "</style>\n",
       "<table border=\"1\" class=\"dataframe\">\n",
       "  <thead>\n",
       "    <tr style=\"text-align: right;\">\n",
       "      <th></th>\n",
       "      <th>nuovi_positivi</th>\n",
       "      <th>nuovi_tamponi</th>\n",
       "      <th>nuovi_tamponi_rapidi</th>\n",
       "      <th>nuovi_tamponi_molecolari</th>\n",
       "      <th>periodo_appartenenza</th>\n",
       "      <th>0.0</th>\n",
       "      <th>1.0</th>\n",
       "      <th>2.0</th>\n",
       "      <th>3.0</th>\n",
       "      <th>4.0</th>\n",
       "      <th>5.0</th>\n",
       "      <th>6.0</th>\n",
       "      <th>7.0</th>\n",
       "      <th>8.0</th>\n",
       "    </tr>\n",
       "    <tr>\n",
       "      <th>data</th>\n",
       "      <th></th>\n",
       "      <th></th>\n",
       "      <th></th>\n",
       "      <th></th>\n",
       "      <th></th>\n",
       "      <th></th>\n",
       "      <th></th>\n",
       "      <th></th>\n",
       "      <th></th>\n",
       "      <th></th>\n",
       "      <th></th>\n",
       "      <th></th>\n",
       "      <th></th>\n",
       "      <th></th>\n",
       "    </tr>\n",
       "  </thead>\n",
       "  <tbody>\n",
       "    <tr>\n",
       "      <th>2020-02-24</th>\n",
       "      <td>221</td>\n",
       "      <td>4324.0</td>\n",
       "      <td>2162.0</td>\n",
       "      <td>2162.0</td>\n",
       "      <td>0.0</td>\n",
       "      <td>1</td>\n",
       "      <td>0</td>\n",
       "      <td>0</td>\n",
       "      <td>0</td>\n",
       "      <td>0</td>\n",
       "      <td>0</td>\n",
       "      <td>0</td>\n",
       "      <td>0</td>\n",
       "      <td>0</td>\n",
       "    </tr>\n",
       "    <tr>\n",
       "      <th>2020-02-25</th>\n",
       "      <td>93</td>\n",
       "      <td>4299.0</td>\n",
       "      <td>2149.5</td>\n",
       "      <td>2149.5</td>\n",
       "      <td>0.0</td>\n",
       "      <td>1</td>\n",
       "      <td>0</td>\n",
       "      <td>0</td>\n",
       "      <td>0</td>\n",
       "      <td>0</td>\n",
       "      <td>0</td>\n",
       "      <td>0</td>\n",
       "      <td>0</td>\n",
       "      <td>0</td>\n",
       "    </tr>\n",
       "    <tr>\n",
       "      <th>2020-02-26</th>\n",
       "      <td>78</td>\n",
       "      <td>964.0</td>\n",
       "      <td>482.0</td>\n",
       "      <td>482.0</td>\n",
       "      <td>0.0</td>\n",
       "      <td>1</td>\n",
       "      <td>0</td>\n",
       "      <td>0</td>\n",
       "      <td>0</td>\n",
       "      <td>0</td>\n",
       "      <td>0</td>\n",
       "      <td>0</td>\n",
       "      <td>0</td>\n",
       "      <td>0</td>\n",
       "    </tr>\n",
       "    <tr>\n",
       "      <th>2020-02-27</th>\n",
       "      <td>250</td>\n",
       "      <td>2427.0</td>\n",
       "      <td>1213.5</td>\n",
       "      <td>1213.5</td>\n",
       "      <td>0.0</td>\n",
       "      <td>1</td>\n",
       "      <td>0</td>\n",
       "      <td>0</td>\n",
       "      <td>0</td>\n",
       "      <td>0</td>\n",
       "      <td>0</td>\n",
       "      <td>0</td>\n",
       "      <td>0</td>\n",
       "      <td>0</td>\n",
       "    </tr>\n",
       "    <tr>\n",
       "      <th>2020-02-28</th>\n",
       "      <td>238</td>\n",
       "      <td>3681.0</td>\n",
       "      <td>1840.5</td>\n",
       "      <td>1840.5</td>\n",
       "      <td>0.0</td>\n",
       "      <td>1</td>\n",
       "      <td>0</td>\n",
       "      <td>0</td>\n",
       "      <td>0</td>\n",
       "      <td>0</td>\n",
       "      <td>0</td>\n",
       "      <td>0</td>\n",
       "      <td>0</td>\n",
       "      <td>0</td>\n",
       "    </tr>\n",
       "    <tr>\n",
       "      <th>...</th>\n",
       "      <td>...</td>\n",
       "      <td>...</td>\n",
       "      <td>...</td>\n",
       "      <td>...</td>\n",
       "      <td>...</td>\n",
       "      <td>...</td>\n",
       "      <td>...</td>\n",
       "      <td>...</td>\n",
       "      <td>...</td>\n",
       "      <td>...</td>\n",
       "      <td>...</td>\n",
       "      <td>...</td>\n",
       "      <td>...</td>\n",
       "      <td>...</td>\n",
       "    </tr>\n",
       "    <tr>\n",
       "      <th>2024-08-17</th>\n",
       "      <td>2271</td>\n",
       "      <td>11072.0</td>\n",
       "      <td>9953.0</td>\n",
       "      <td>1119.0</td>\n",
       "      <td>8.0</td>\n",
       "      <td>0</td>\n",
       "      <td>0</td>\n",
       "      <td>0</td>\n",
       "      <td>0</td>\n",
       "      <td>0</td>\n",
       "      <td>0</td>\n",
       "      <td>0</td>\n",
       "      <td>0</td>\n",
       "      <td>1</td>\n",
       "    </tr>\n",
       "    <tr>\n",
       "      <th>2024-08-18</th>\n",
       "      <td>1426</td>\n",
       "      <td>8604.0</td>\n",
       "      <td>7717.0</td>\n",
       "      <td>887.0</td>\n",
       "      <td>8.0</td>\n",
       "      <td>0</td>\n",
       "      <td>0</td>\n",
       "      <td>0</td>\n",
       "      <td>0</td>\n",
       "      <td>0</td>\n",
       "      <td>0</td>\n",
       "      <td>0</td>\n",
       "      <td>0</td>\n",
       "      <td>1</td>\n",
       "    </tr>\n",
       "    <tr>\n",
       "      <th>2024-08-19</th>\n",
       "      <td>956</td>\n",
       "      <td>6012.0</td>\n",
       "      <td>5436.0</td>\n",
       "      <td>576.0</td>\n",
       "      <td>8.0</td>\n",
       "      <td>0</td>\n",
       "      <td>0</td>\n",
       "      <td>0</td>\n",
       "      <td>0</td>\n",
       "      <td>0</td>\n",
       "      <td>0</td>\n",
       "      <td>0</td>\n",
       "      <td>0</td>\n",
       "      <td>1</td>\n",
       "    </tr>\n",
       "    <tr>\n",
       "      <th>2024-08-20</th>\n",
       "      <td>3339</td>\n",
       "      <td>18307.0</td>\n",
       "      <td>16601.0</td>\n",
       "      <td>1706.0</td>\n",
       "      <td>8.0</td>\n",
       "      <td>0</td>\n",
       "      <td>0</td>\n",
       "      <td>0</td>\n",
       "      <td>0</td>\n",
       "      <td>0</td>\n",
       "      <td>0</td>\n",
       "      <td>0</td>\n",
       "      <td>0</td>\n",
       "      <td>1</td>\n",
       "    </tr>\n",
       "    <tr>\n",
       "      <th>2024-08-21</th>\n",
       "      <td>2492</td>\n",
       "      <td>12158.0</td>\n",
       "      <td>10653.0</td>\n",
       "      <td>1505.0</td>\n",
       "      <td>8.0</td>\n",
       "      <td>0</td>\n",
       "      <td>0</td>\n",
       "      <td>0</td>\n",
       "      <td>0</td>\n",
       "      <td>0</td>\n",
       "      <td>0</td>\n",
       "      <td>0</td>\n",
       "      <td>0</td>\n",
       "      <td>1</td>\n",
       "    </tr>\n",
       "  </tbody>\n",
       "</table>\n",
       "<p>1641 rows × 14 columns</p>\n",
       "</div>"
      ],
      "text/plain": [
       "            nuovi_positivi  nuovi_tamponi  nuovi_tamponi_rapidi  \\\n",
       "data                                                              \n",
       "2020-02-24             221         4324.0                2162.0   \n",
       "2020-02-25              93         4299.0                2149.5   \n",
       "2020-02-26              78          964.0                 482.0   \n",
       "2020-02-27             250         2427.0                1213.5   \n",
       "2020-02-28             238         3681.0                1840.5   \n",
       "...                    ...            ...                   ...   \n",
       "2024-08-17            2271        11072.0                9953.0   \n",
       "2024-08-18            1426         8604.0                7717.0   \n",
       "2024-08-19             956         6012.0                5436.0   \n",
       "2024-08-20            3339        18307.0               16601.0   \n",
       "2024-08-21            2492        12158.0               10653.0   \n",
       "\n",
       "            nuovi_tamponi_molecolari  periodo_appartenenza  0.0  1.0  2.0  \\\n",
       "data                                                                        \n",
       "2020-02-24                    2162.0                   0.0    1    0    0   \n",
       "2020-02-25                    2149.5                   0.0    1    0    0   \n",
       "2020-02-26                     482.0                   0.0    1    0    0   \n",
       "2020-02-27                    1213.5                   0.0    1    0    0   \n",
       "2020-02-28                    1840.5                   0.0    1    0    0   \n",
       "...                              ...                   ...  ...  ...  ...   \n",
       "2024-08-17                    1119.0                   8.0    0    0    0   \n",
       "2024-08-18                     887.0                   8.0    0    0    0   \n",
       "2024-08-19                     576.0                   8.0    0    0    0   \n",
       "2024-08-20                    1706.0                   8.0    0    0    0   \n",
       "2024-08-21                    1505.0                   8.0    0    0    0   \n",
       "\n",
       "            3.0  4.0  5.0  6.0  7.0  8.0  \n",
       "data                                      \n",
       "2020-02-24    0    0    0    0    0    0  \n",
       "2020-02-25    0    0    0    0    0    0  \n",
       "2020-02-26    0    0    0    0    0    0  \n",
       "2020-02-27    0    0    0    0    0    0  \n",
       "2020-02-28    0    0    0    0    0    0  \n",
       "...         ...  ...  ...  ...  ...  ...  \n",
       "2024-08-17    0    0    0    0    0    1  \n",
       "2024-08-18    0    0    0    0    0    1  \n",
       "2024-08-19    0    0    0    0    0    1  \n",
       "2024-08-20    0    0    0    0    0    1  \n",
       "2024-08-21    0    0    0    0    0    1  \n",
       "\n",
       "[1641 rows x 14 columns]"
      ]
     },
     "execution_count": 34,
     "metadata": {},
     "output_type": "execute_result"
    }
   ],
   "source": [
    "dummies = pd.get_dummies(dataset[\"periodo_appartenenza\"])\n",
    "dataset = pd.merge(left=dataset, right=dummies, on='data')\n",
    "dataset"
   ]
  },
  {
   "cell_type": "markdown",
   "id": "c7b2a28d",
   "metadata": {
    "id": "c7b2a28d"
   },
   "source": [
    "Dato che ho aggiunto nuove features al dataset ricalcolo i dataset relativi ai singoli anni, dopo aver eliminato la variabile categorica:"
   ]
  },
  {
   "cell_type": "code",
   "execution_count": 35,
   "id": "gp3LvEwqx9df",
   "metadata": {
    "id": "gp3LvEwqx9df"
   },
   "outputs": [],
   "source": [
    "dataset = dataset.drop(['periodo_appartenenza'], axis=1)"
   ]
  },
  {
   "cell_type": "code",
   "execution_count": 105,
   "id": "c6bb8a0e",
   "metadata": {
    "id": "c6bb8a0e"
   },
   "outputs": [],
   "source": [
    "#### RICREO I DATASET\n",
    "\n",
    "dataset1_2020 = dataset[indici < meta_2020]\n",
    "dataset2_2020 = dataset[(indici > meta_2020 ) & (indici < inizio_2021)]\n",
    "\n",
    "#2021\n",
    "dataset1_2021 = dataset[(indici > inizio_2021) & (indici < meta_2021)]\n",
    "dataset2_2021 = dataset[(indici > meta_2021) & (indici < inizio_2022)]\n",
    "\n",
    "#2022\n",
    "dataset1_2022 = dataset[(indici > inizio_2022) & (indici < meta_2022)]\n",
    "dataset2_2022 = dataset[(indici > meta_2022) & (indici < inizio_2023)]\n",
    "\n",
    "#2023\n",
    "dataset_2023 = dataset[(indici > inizio_2023) & (indici < inizio_2024)]\n",
    "dataset1_2023 = dataset[(indici > inizio_2023) & (indici < meta_2023)]\n",
    "dataset2_2023 = dataset[(indici > meta_2023) & (indici < inizio_2024)]\n",
    "\n",
    "#2024\n",
    "dataset_2024 = dataset[(indici > inizio_2024)]"
   ]
  },
  {
   "cell_type": "markdown",
   "id": "1925af2a",
   "metadata": {
    "id": "500f0d8d"
   },
   "source": [
    "# CREAZIONE DEI MODELLI"
   ]
  },
  {
   "cell_type": "markdown",
   "id": "7b8c1f27",
   "metadata": {
    "id": "7b8c1f27"
   },
   "source": [
    "Per prima cosa importiamo packages necessari"
   ]
  },
  {
   "cell_type": "code",
   "execution_count": 106,
   "id": "a9bfb7a7",
   "metadata": {
    "id": "a9bfb7a7"
   },
   "outputs": [],
   "source": [
    "from sklearn.linear_model import LinearRegression, Ridge, Lasso, ElasticNet\n",
    "from sklearn.kernel_ridge import KernelRidge\n",
    "\n",
    "from sklearn.preprocessing import PolynomialFeatures, StandardScaler, MinMaxScaler\n",
    "\n",
    "from sklearn.pipeline import Pipeline\n",
    "from sklearn.model_selection import train_test_split, GridSearchCV, KFold\n"
   ]
  },
  {
   "cell_type": "markdown",
   "id": "0275590d",
   "metadata": {
    "id": "0275590d"
   },
   "source": [
    "Poi creiamo delle funzioni che ci torneranno utili dopo:"
   ]
  },
  {
   "cell_type": "code",
   "execution_count": 38,
   "id": "1d3b9e8a",
   "metadata": {
    "id": "1d3b9e8a"
   },
   "outputs": [],
   "source": [
    "from sklearn.metrics import mean_squared_error, mean_absolute_percentage_error, r2_score\n",
    "\n",
    "def print_eval(X, y, model):\n",
    "    preds = model.predict(X)\n",
    "    #mse = mean_squared_error(y, preds)\n",
    "    re = mean_absolute_percentage_error(y, preds)\n",
    "    r2 = r2_score(y, preds)\n",
    "    #print(f\"   Mean squared error: {mse:.5}\")\n",
    "    print(f\"       Relative error: {re:.5%}\")\n",
    "    print(f\"R-squared coefficient: {r2:.5}\")"
   ]
  },
  {
   "cell_type": "code",
   "execution_count": 39,
   "id": "d294bb08",
   "metadata": {
    "id": "d294bb08"
   },
   "outputs": [],
   "source": [
    "def plot_model_on_data(x, y, model=None, title=None, ax=None):\n",
    "    if ax is None:\n",
    "        plt.figure(figsize=(9, 6))\n",
    "        ax = plt.gca()\n",
    "    ax.scatter(x, y)\n",
    "    if model is not None:\n",
    "        xlim, ylim = ax.get_xlim(), ax.get_ylim()\n",
    "        plot_x = np.linspace(xlim[0], xlim[1], 100)\n",
    "        plot_y = model(plot_x)\n",
    "        ax.plot(plot_x, plot_y, lw=3, c=\"red\")\n",
    "        ax.set_xlim(xlim); ax.set_ylim(ylim)\n",
    "    ax.grid()\n",
    "    ax.set_title(title)\n",
    "    ax.set_xlabel(\"Tamponi Giornalieri\")\n",
    "    ax.set_ylabel(\"Positivi Giornalieri\")"
   ]
  },
  {
   "cell_type": "code",
   "execution_count": 40,
   "id": "134e1765",
   "metadata": {
    "id": "134e1765"
   },
   "outputs": [],
   "source": [
    "def plot_singolo_grafico(dataset, label, title):\n",
    "    # Creare il grafico\n",
    "    plt.figure(figsize=(10, 6))\n",
    "    plt.scatter(dataset['nuovi_tamponi'], dataset['nuovi_positivi'], label=label, color=\"blue\")\n",
    "\n",
    "    # Aggiungere etichette e titolo\n",
    "    plt.xlabel('Tamponi Giornalieri')\n",
    "    plt.ylabel('Positivi Giornalieri')\n",
    "    plt.title(title)\n",
    "    plt.legend()"
   ]
  },
  {
   "cell_type": "code",
   "execution_count": 41,
   "id": "19caee91",
   "metadata": {
    "id": "19caee91"
   },
   "outputs": [],
   "source": [
    "def print_data(X_train, X_test, y_train, y_test, model):\n",
    "    print(\"TRAIN -----------------------\")\n",
    "    print_eval(X_train, y_train, model)\n",
    "    print(\"TEST ------------------------\")\n",
    "    print_eval(X_test, y_test, model)"
   ]
  },
  {
   "cell_type": "markdown",
   "id": "9fa2d368",
   "metadata": {
    "id": "9fa2d368"
   },
   "source": [
    "Come abbiamo visto ci troviamo in una situazione in cui dati sono molto sparsi, ora creeremo dei modelli, di diverse tipogie, addestrati e testati sia sull'intero dataset, sia sui dataset contenenti i dati dei singoli anni, per confrontarli tra di loro.\n",
    "\n",
    "Per prima cosa creiamo i dataset relativi ai singoli anni, unendo i dataset creati prima (i dataset per il 2023 e 2024 li ho creati prima):"
   ]
  },
  {
   "cell_type": "code",
   "execution_count": 42,
   "id": "730736cf",
   "metadata": {
    "executionInfo": {
     "elapsed": 417,
     "status": "ok",
     "timestamp": 1724778827106,
     "user": {
      "displayName": "leonardo viola",
      "userId": "05669561941182783016"
     },
     "user_tz": -120
    },
    "id": "730736cf"
   },
   "outputs": [],
   "source": [
    "dataset_2020 = pd.concat([dataset1_2020, dataset2_2020])\n",
    "\n",
    "dataset_2021 = pd.concat([dataset1_2021, dataset2_2021])\n",
    "\n",
    "dataset_2022 = pd.concat([dataset1_2022, dataset2_2022])"
   ]
  },
  {
   "cell_type": "markdown",
   "id": "52cc48b2",
   "metadata": {
    "id": "52cc48b2"
   },
   "source": [
    "Ora procediamo alla creazione dei modelli."
   ]
  },
  {
   "cell_type": "markdown",
   "id": "7a6c1743",
   "metadata": {
    "id": "7a6c1743"
   },
   "source": [
    "# PREVISIONI INTERO DATASET"
   ]
  },
  {
   "cell_type": "markdown",
   "id": "94c0b3eb",
   "metadata": {
    "id": "94c0b3eb"
   },
   "source": [
    "Iniziamo creando un semplice modello di regressione lineare:  "
   ]
  },
  {
   "cell_type": "code",
   "execution_count": 43,
   "id": "e164090b",
   "metadata": {
    "executionInfo": {
     "elapsed": 1553,
     "status": "ok",
     "timestamp": 1724778862281,
     "user": {
      "displayName": "leonardo viola",
      "userId": "05669561941182783016"
     },
     "user_tz": -120
    },
    "id": "e164090b"
   },
   "outputs": [],
   "source": [
    "X = dataset.drop('nuovi_positivi', axis=1)\n",
    "y = dataset['nuovi_positivi']\n",
    "\n",
    "X_train, X_test, y_train, y_test = train_test_split(X, y, test_size=0.2, random_state=42)"
   ]
  },
  {
   "cell_type": "code",
   "execution_count": 44,
   "id": "8066d338",
   "metadata": {
    "colab": {
     "base_uri": "https://localhost:8080/",
     "height": 356
    },
    "executionInfo": {
     "elapsed": 311,
     "status": "error",
     "timestamp": 1724779102876,
     "user": {
      "displayName": "leonardo viola",
      "userId": "05669561941182783016"
     },
     "user_tz": -120
    },
    "id": "8066d338",
    "outputId": "75de98e8-8bec-408a-f0a0-d54f0504e5ad"
   },
   "outputs": [
    {
     "name": "stdout",
     "output_type": "stream",
     "text": [
      "TRAIN -----------------------\n",
      "       Relative error: 233.27990%\n",
      "R-squared coefficient: 0.78112\n",
      "TEST ------------------------\n",
      "       Relative error: 257.14044%\n",
      "R-squared coefficient: 0.80893\n"
     ]
    }
   ],
   "source": [
    "simple_model =  LinearRegression()\n",
    "simple_model.fit(X_train, y_train)\n",
    "print_data(X_train, X_test, y_train, y_test, simple_model)"
   ]
  },
  {
   "cell_type": "markdown",
   "id": "901b413a",
   "metadata": {
    "id": "901b413a"
   },
   "source": [
    "Ora creo una pipeline dove uso il modello Ridge, con normalizzazione minimo-massimo e regressione polinomiale facendo uso amche della k-Fold Cross Validation:"
   ]
  },
  {
   "cell_type": "code",
   "execution_count": 45,
   "id": "a709617f",
   "metadata": {
    "executionInfo": {
     "elapsed": 1502,
     "status": "ok",
     "timestamp": 1724778893899,
     "user": {
      "displayName": "leonardo viola",
      "userId": "05669561941182783016"
     },
     "user_tz": -120
    },
    "id": "a709617f"
   },
   "outputs": [],
   "source": [
    "kfold_5 = KFold(5, shuffle=True, random_state=42)"
   ]
  },
  {
   "cell_type": "code",
   "execution_count": 46,
   "id": "f14b9342",
   "metadata": {
    "executionInfo": {
     "elapsed": 3,
     "status": "ok",
     "timestamp": 1724778895959,
     "user": {
      "displayName": "leonardo viola",
      "userId": "05669561941182783016"
     },
     "user_tz": -120
    },
    "id": "f14b9342"
   },
   "outputs": [],
   "source": [
    "modelRidge = Pipeline([\n",
    "    (\"poly\",  PolynomialFeatures(include_bias=False)),\n",
    "    (\"scale\", MinMaxScaler()),\n",
    "    (\"regr\",  Ridge())\n",
    "])"
   ]
  },
  {
   "cell_type": "code",
   "execution_count": 47,
   "id": "39794cc0",
   "metadata": {
    "colab": {
     "base_uri": "https://localhost:8080/",
     "height": 981
    },
    "executionInfo": {
     "elapsed": 16,
     "status": "error",
     "timestamp": 1724778899021,
     "user": {
      "displayName": "leonardo viola",
      "userId": "05669561941182783016"
     },
     "user_tz": -120
    },
    "id": "39794cc0",
    "outputId": "c10965f3-c2d2-4658-898c-9854a49fa98f"
   },
   "outputs": [
    {
     "data": {
      "text/html": [
       "<div>\n",
       "<style scoped>\n",
       "    .dataframe tbody tr th:only-of-type {\n",
       "        vertical-align: middle;\n",
       "    }\n",
       "\n",
       "    .dataframe tbody tr th {\n",
       "        vertical-align: top;\n",
       "    }\n",
       "\n",
       "    .dataframe thead th {\n",
       "        text-align: right;\n",
       "    }\n",
       "</style>\n",
       "<table border=\"1\" class=\"dataframe\">\n",
       "  <thead>\n",
       "    <tr style=\"text-align: right;\">\n",
       "      <th></th>\n",
       "      <th>mean_fit_time</th>\n",
       "      <th>std_fit_time</th>\n",
       "      <th>mean_score_time</th>\n",
       "      <th>std_score_time</th>\n",
       "      <th>param_poly__degree</th>\n",
       "      <th>param_regr__alpha</th>\n",
       "      <th>params</th>\n",
       "      <th>split0_test_score</th>\n",
       "      <th>split1_test_score</th>\n",
       "      <th>split2_test_score</th>\n",
       "      <th>split3_test_score</th>\n",
       "      <th>split4_test_score</th>\n",
       "      <th>mean_test_score</th>\n",
       "      <th>std_test_score</th>\n",
       "      <th>rank_test_score</th>\n",
       "    </tr>\n",
       "  </thead>\n",
       "  <tbody>\n",
       "    <tr>\n",
       "      <th>2</th>\n",
       "      <td>0.006404</td>\n",
       "      <td>0.000489</td>\n",
       "      <td>0.001994</td>\n",
       "      <td>0.000002</td>\n",
       "      <td>2</td>\n",
       "      <td>10</td>\n",
       "      <td>{'poly__degree': 2, 'regr__alpha': 10}</td>\n",
       "      <td>0.796931</td>\n",
       "      <td>0.723210</td>\n",
       "      <td>0.777708</td>\n",
       "      <td>0.774701</td>\n",
       "      <td>0.854802</td>\n",
       "      <td>0.785470</td>\n",
       "      <td>0.042405</td>\n",
       "      <td>1</td>\n",
       "    </tr>\n",
       "    <tr>\n",
       "      <th>1</th>\n",
       "      <td>0.007399</td>\n",
       "      <td>0.000802</td>\n",
       "      <td>0.002800</td>\n",
       "      <td>0.000401</td>\n",
       "      <td>2</td>\n",
       "      <td>1</td>\n",
       "      <td>{'poly__degree': 2, 'regr__alpha': 1}</td>\n",
       "      <td>0.834737</td>\n",
       "      <td>0.391167</td>\n",
       "      <td>0.780282</td>\n",
       "      <td>0.806977</td>\n",
       "      <td>0.860840</td>\n",
       "      <td>0.734801</td>\n",
       "      <td>0.173917</td>\n",
       "      <td>2</td>\n",
       "    </tr>\n",
       "    <tr>\n",
       "      <th>5</th>\n",
       "      <td>0.022469</td>\n",
       "      <td>0.000453</td>\n",
       "      <td>0.002598</td>\n",
       "      <td>0.000490</td>\n",
       "      <td>3</td>\n",
       "      <td>10</td>\n",
       "      <td>{'poly__degree': 3, 'regr__alpha': 10}</td>\n",
       "      <td>0.825673</td>\n",
       "      <td>0.324160</td>\n",
       "      <td>0.778485</td>\n",
       "      <td>0.811030</td>\n",
       "      <td>0.871628</td>\n",
       "      <td>0.722195</td>\n",
       "      <td>0.201261</td>\n",
       "      <td>3</td>\n",
       "    </tr>\n",
       "    <tr>\n",
       "      <th>3</th>\n",
       "      <td>0.023802</td>\n",
       "      <td>0.001325</td>\n",
       "      <td>0.003402</td>\n",
       "      <td>0.000495</td>\n",
       "      <td>3</td>\n",
       "      <td>0.1</td>\n",
       "      <td>{'poly__degree': 3, 'regr__alpha': 0.1}</td>\n",
       "      <td>0.906954</td>\n",
       "      <td>0.073496</td>\n",
       "      <td>0.801081</td>\n",
       "      <td>0.868344</td>\n",
       "      <td>0.910772</td>\n",
       "      <td>0.712130</td>\n",
       "      <td>0.321740</td>\n",
       "      <td>4</td>\n",
       "    </tr>\n",
       "    <tr>\n",
       "      <th>0</th>\n",
       "      <td>0.010997</td>\n",
       "      <td>0.003637</td>\n",
       "      <td>0.003203</td>\n",
       "      <td>0.000402</td>\n",
       "      <td>2</td>\n",
       "      <td>0.1</td>\n",
       "      <td>{'poly__degree': 2, 'regr__alpha': 0.1}</td>\n",
       "      <td>0.869101</td>\n",
       "      <td>-0.151150</td>\n",
       "      <td>0.767438</td>\n",
       "      <td>0.835254</td>\n",
       "      <td>0.864726</td>\n",
       "      <td>0.637074</td>\n",
       "      <td>0.395785</td>\n",
       "      <td>5</td>\n",
       "    </tr>\n",
       "    <tr>\n",
       "      <th>4</th>\n",
       "      <td>0.022802</td>\n",
       "      <td>0.001165</td>\n",
       "      <td>0.002400</td>\n",
       "      <td>0.000488</td>\n",
       "      <td>3</td>\n",
       "      <td>1</td>\n",
       "      <td>{'poly__degree': 3, 'regr__alpha': 1}</td>\n",
       "      <td>0.870928</td>\n",
       "      <td>-0.364176</td>\n",
       "      <td>0.789071</td>\n",
       "      <td>0.843887</td>\n",
       "      <td>0.890833</td>\n",
       "      <td>0.606108</td>\n",
       "      <td>0.486346</td>\n",
       "      <td>6</td>\n",
       "    </tr>\n",
       "  </tbody>\n",
       "</table>\n",
       "</div>"
      ],
      "text/plain": [
       "   mean_fit_time  std_fit_time  mean_score_time  std_score_time  \\\n",
       "2       0.006404      0.000489         0.001994        0.000002   \n",
       "1       0.007399      0.000802         0.002800        0.000401   \n",
       "5       0.022469      0.000453         0.002598        0.000490   \n",
       "3       0.023802      0.001325         0.003402        0.000495   \n",
       "0       0.010997      0.003637         0.003203        0.000402   \n",
       "4       0.022802      0.001165         0.002400        0.000488   \n",
       "\n",
       "  param_poly__degree param_regr__alpha  \\\n",
       "2                  2                10   \n",
       "1                  2                 1   \n",
       "5                  3                10   \n",
       "3                  3               0.1   \n",
       "0                  2               0.1   \n",
       "4                  3                 1   \n",
       "\n",
       "                                    params  split0_test_score  \\\n",
       "2   {'poly__degree': 2, 'regr__alpha': 10}           0.796931   \n",
       "1    {'poly__degree': 2, 'regr__alpha': 1}           0.834737   \n",
       "5   {'poly__degree': 3, 'regr__alpha': 10}           0.825673   \n",
       "3  {'poly__degree': 3, 'regr__alpha': 0.1}           0.906954   \n",
       "0  {'poly__degree': 2, 'regr__alpha': 0.1}           0.869101   \n",
       "4    {'poly__degree': 3, 'regr__alpha': 1}           0.870928   \n",
       "\n",
       "   split1_test_score  split2_test_score  split3_test_score  split4_test_score  \\\n",
       "2           0.723210           0.777708           0.774701           0.854802   \n",
       "1           0.391167           0.780282           0.806977           0.860840   \n",
       "5           0.324160           0.778485           0.811030           0.871628   \n",
       "3           0.073496           0.801081           0.868344           0.910772   \n",
       "0          -0.151150           0.767438           0.835254           0.864726   \n",
       "4          -0.364176           0.789071           0.843887           0.890833   \n",
       "\n",
       "   mean_test_score  std_test_score  rank_test_score  \n",
       "2         0.785470        0.042405                1  \n",
       "1         0.734801        0.173917                2  \n",
       "5         0.722195        0.201261                3  \n",
       "3         0.712130        0.321740                4  \n",
       "0         0.637074        0.395785                5  \n",
       "4         0.606108        0.486346                6  "
      ]
     },
     "execution_count": 47,
     "metadata": {},
     "output_type": "execute_result"
    }
   ],
   "source": [
    "grid = {\n",
    "    # grado polinomio (parametro \"degree\" del filtro \"poly\")\n",
    "    \"poly__degree\": [2, 3],\n",
    "    # peso regolarizzazione (parametro \"alpha\" del modello \"regr\")\n",
    "    \"regr__alpha\":  [0.1, 1, 10],\n",
    "}\n",
    "\n",
    "gs = GridSearchCV(modelRidge, grid, cv=kfold_5)\n",
    "gs.fit(X_train, y_train);\n",
    "pd.DataFrame(gs.cv_results_).sort_values(\"mean_test_score\", ascending=False)"
   ]
  },
  {
   "cell_type": "markdown",
   "id": "7cb5e691",
   "metadata": {
    "id": "7cb5e691"
   },
   "source": [
    "Ora vediamo come si comporta il modello:"
   ]
  },
  {
   "cell_type": "code",
   "execution_count": 48,
   "id": "f3863fc1",
   "metadata": {
    "id": "f3863fc1",
    "outputId": "a5ec3783-daf4-461a-d8fe-88ef997f3aaf"
   },
   "outputs": [
    {
     "name": "stdout",
     "output_type": "stream",
     "text": [
      "TRAIN -----------------------\n",
      "       Relative error: 155.30528%\n",
      "R-squared coefficient: 0.81358\n",
      "TEST ------------------------\n",
      "       Relative error: 145.19578%\n",
      "R-squared coefficient: 0.83706\n"
     ]
    }
   ],
   "source": [
    "print_data(X_train, X_test, y_train, y_test, gs)"
   ]
  },
  {
   "cell_type": "markdown",
   "id": "3e549bb3",
   "metadata": {
    "id": "3e549bb3"
   },
   "source": [
    "Possiamo notare che rispetto al semplice modello lineare precedente c'è stato un miglioramento, un'altra prova che voglio fare è vedere se le features che ho aggiunto servono effettivamente ad ottenere un modello migliore, per questo uso il modello precedente ma lo addestrerò usando la sola feature `nuovi_tamponi` e non usando le altre features aggiunte da me.\n",
    "\n",
    "Creo i nuovi training e test sets:"
   ]
  },
  {
   "cell_type": "code",
   "execution_count": 49,
   "id": "a14fbc7a",
   "metadata": {
    "id": "a14fbc7a"
   },
   "outputs": [],
   "source": [
    "X_prova = dataset[['nuovi_tamponi']]\n",
    "y_prova = dataset['nuovi_positivi']\n",
    "\n",
    "X_prova_train, X_prova_test, y_prova_train, y_prova_test = train_test_split(X_prova, y_prova, test_size=0.2, random_state=42)"
   ]
  },
  {
   "cell_type": "markdown",
   "id": "ccc19d2c",
   "metadata": {
    "id": "ccc19d2c"
   },
   "source": [
    "Cerco i parametri migliori:"
   ]
  },
  {
   "cell_type": "code",
   "execution_count": 50,
   "id": "bedcd17c",
   "metadata": {
    "id": "bedcd17c",
    "outputId": "fb3d174d-6378-45c9-8437-ff76a06c5a8e",
    "scrolled": true
   },
   "outputs": [
    {
     "data": {
      "text/html": [
       "<div>\n",
       "<style scoped>\n",
       "    .dataframe tbody tr th:only-of-type {\n",
       "        vertical-align: middle;\n",
       "    }\n",
       "\n",
       "    .dataframe tbody tr th {\n",
       "        vertical-align: top;\n",
       "    }\n",
       "\n",
       "    .dataframe thead th {\n",
       "        text-align: right;\n",
       "    }\n",
       "</style>\n",
       "<table border=\"1\" class=\"dataframe\">\n",
       "  <thead>\n",
       "    <tr style=\"text-align: right;\">\n",
       "      <th></th>\n",
       "      <th>mean_fit_time</th>\n",
       "      <th>std_fit_time</th>\n",
       "      <th>mean_score_time</th>\n",
       "      <th>std_score_time</th>\n",
       "      <th>param_poly__degree</th>\n",
       "      <th>param_regr__alpha</th>\n",
       "      <th>params</th>\n",
       "      <th>split0_test_score</th>\n",
       "      <th>split1_test_score</th>\n",
       "      <th>split2_test_score</th>\n",
       "      <th>split3_test_score</th>\n",
       "      <th>split4_test_score</th>\n",
       "      <th>mean_test_score</th>\n",
       "      <th>std_test_score</th>\n",
       "      <th>rank_test_score</th>\n",
       "    </tr>\n",
       "  </thead>\n",
       "  <tbody>\n",
       "    <tr>\n",
       "      <th>4</th>\n",
       "      <td>0.004001</td>\n",
       "      <td>0.000003</td>\n",
       "      <td>0.001999</td>\n",
       "      <td>0.000634</td>\n",
       "      <td>3</td>\n",
       "      <td>1</td>\n",
       "      <td>{'poly__degree': 3, 'regr__alpha': 1}</td>\n",
       "      <td>0.663533</td>\n",
       "      <td>0.601656</td>\n",
       "      <td>0.599942</td>\n",
       "      <td>0.583970</td>\n",
       "      <td>0.764841</td>\n",
       "      <td>0.642789</td>\n",
       "      <td>0.066805</td>\n",
       "      <td>1</td>\n",
       "    </tr>\n",
       "    <tr>\n",
       "      <th>1</th>\n",
       "      <td>0.003799</td>\n",
       "      <td>0.000399</td>\n",
       "      <td>0.001199</td>\n",
       "      <td>0.000399</td>\n",
       "      <td>2</td>\n",
       "      <td>1</td>\n",
       "      <td>{'poly__degree': 2, 'regr__alpha': 1}</td>\n",
       "      <td>0.656693</td>\n",
       "      <td>0.623925</td>\n",
       "      <td>0.598647</td>\n",
       "      <td>0.573362</td>\n",
       "      <td>0.760826</td>\n",
       "      <td>0.642691</td>\n",
       "      <td>0.065193</td>\n",
       "      <td>2</td>\n",
       "    </tr>\n",
       "    <tr>\n",
       "      <th>3</th>\n",
       "      <td>0.004006</td>\n",
       "      <td>0.000634</td>\n",
       "      <td>0.001994</td>\n",
       "      <td>0.000010</td>\n",
       "      <td>3</td>\n",
       "      <td>0.1</td>\n",
       "      <td>{'poly__degree': 3, 'regr__alpha': 0.1}</td>\n",
       "      <td>0.663540</td>\n",
       "      <td>0.589935</td>\n",
       "      <td>0.603128</td>\n",
       "      <td>0.574151</td>\n",
       "      <td>0.768712</td>\n",
       "      <td>0.639893</td>\n",
       "      <td>0.071166</td>\n",
       "      <td>3</td>\n",
       "    </tr>\n",
       "    <tr>\n",
       "      <th>0</th>\n",
       "      <td>0.004412</td>\n",
       "      <td>0.000812</td>\n",
       "      <td>0.001799</td>\n",
       "      <td>0.000405</td>\n",
       "      <td>2</td>\n",
       "      <td>0.1</td>\n",
       "      <td>{'poly__degree': 2, 'regr__alpha': 0.1}</td>\n",
       "      <td>0.659222</td>\n",
       "      <td>0.611988</td>\n",
       "      <td>0.596535</td>\n",
       "      <td>0.566322</td>\n",
       "      <td>0.764640</td>\n",
       "      <td>0.639741</td>\n",
       "      <td>0.069291</td>\n",
       "      <td>4</td>\n",
       "    </tr>\n",
       "    <tr>\n",
       "      <th>5</th>\n",
       "      <td>0.003601</td>\n",
       "      <td>0.000490</td>\n",
       "      <td>0.001800</td>\n",
       "      <td>0.000400</td>\n",
       "      <td>3</td>\n",
       "      <td>10</td>\n",
       "      <td>{'poly__degree': 3, 'regr__alpha': 10}</td>\n",
       "      <td>0.623681</td>\n",
       "      <td>0.586407</td>\n",
       "      <td>0.571222</td>\n",
       "      <td>0.593985</td>\n",
       "      <td>0.721970</td>\n",
       "      <td>0.619453</td>\n",
       "      <td>0.054027</td>\n",
       "      <td>5</td>\n",
       "    </tr>\n",
       "    <tr>\n",
       "      <th>2</th>\n",
       "      <td>0.003399</td>\n",
       "      <td>0.000489</td>\n",
       "      <td>0.001600</td>\n",
       "      <td>0.000493</td>\n",
       "      <td>2</td>\n",
       "      <td>10</td>\n",
       "      <td>{'poly__degree': 2, 'regr__alpha': 10}</td>\n",
       "      <td>0.607998</td>\n",
       "      <td>0.595424</td>\n",
       "      <td>0.570679</td>\n",
       "      <td>0.576670</td>\n",
       "      <td>0.701399</td>\n",
       "      <td>0.610434</td>\n",
       "      <td>0.047384</td>\n",
       "      <td>6</td>\n",
       "    </tr>\n",
       "  </tbody>\n",
       "</table>\n",
       "</div>"
      ],
      "text/plain": [
       "   mean_fit_time  std_fit_time  mean_score_time  std_score_time  \\\n",
       "4       0.004001      0.000003         0.001999        0.000634   \n",
       "1       0.003799      0.000399         0.001199        0.000399   \n",
       "3       0.004006      0.000634         0.001994        0.000010   \n",
       "0       0.004412      0.000812         0.001799        0.000405   \n",
       "5       0.003601      0.000490         0.001800        0.000400   \n",
       "2       0.003399      0.000489         0.001600        0.000493   \n",
       "\n",
       "  param_poly__degree param_regr__alpha  \\\n",
       "4                  3                 1   \n",
       "1                  2                 1   \n",
       "3                  3               0.1   \n",
       "0                  2               0.1   \n",
       "5                  3                10   \n",
       "2                  2                10   \n",
       "\n",
       "                                    params  split0_test_score  \\\n",
       "4    {'poly__degree': 3, 'regr__alpha': 1}           0.663533   \n",
       "1    {'poly__degree': 2, 'regr__alpha': 1}           0.656693   \n",
       "3  {'poly__degree': 3, 'regr__alpha': 0.1}           0.663540   \n",
       "0  {'poly__degree': 2, 'regr__alpha': 0.1}           0.659222   \n",
       "5   {'poly__degree': 3, 'regr__alpha': 10}           0.623681   \n",
       "2   {'poly__degree': 2, 'regr__alpha': 10}           0.607998   \n",
       "\n",
       "   split1_test_score  split2_test_score  split3_test_score  split4_test_score  \\\n",
       "4           0.601656           0.599942           0.583970           0.764841   \n",
       "1           0.623925           0.598647           0.573362           0.760826   \n",
       "3           0.589935           0.603128           0.574151           0.768712   \n",
       "0           0.611988           0.596535           0.566322           0.764640   \n",
       "5           0.586407           0.571222           0.593985           0.721970   \n",
       "2           0.595424           0.570679           0.576670           0.701399   \n",
       "\n",
       "   mean_test_score  std_test_score  rank_test_score  \n",
       "4         0.642789        0.066805                1  \n",
       "1         0.642691        0.065193                2  \n",
       "3         0.639893        0.071166                3  \n",
       "0         0.639741        0.069291                4  \n",
       "5         0.619453        0.054027                5  \n",
       "2         0.610434        0.047384                6  "
      ]
     },
     "execution_count": 50,
     "metadata": {},
     "output_type": "execute_result"
    }
   ],
   "source": [
    "gs.fit(X_prova_train, y_prova_train);\n",
    "pd.DataFrame(gs.cv_results_).sort_values(\"mean_test_score\", ascending=False)"
   ]
  },
  {
   "cell_type": "code",
   "execution_count": 51,
   "id": "dafd1e5a",
   "metadata": {
    "id": "dafd1e5a",
    "outputId": "cac77201-9189-4001-f075-af4e9e0708d6"
   },
   "outputs": [
    {
     "name": "stdout",
     "output_type": "stream",
     "text": [
      "TRAIN -----------------------\n",
      "       Relative error: 423.29512%\n",
      "R-squared coefficient: 0.66342\n",
      "TEST ------------------------\n",
      "       Relative error: 412.13763%\n",
      "R-squared coefficient: 0.66542\n"
     ]
    }
   ],
   "source": [
    "print_data(X_prova_train, X_prova_test, y_prova_train, y_prova_test, gs)"
   ]
  },
  {
   "cell_type": "markdown",
   "id": "c22dcaf3",
   "metadata": {
    "id": "c22dcaf3"
   },
   "source": [
    "Possiamo vedere che senza le features aggiuntive avrei dei valori di valutazione del modello nettamente peggiori.\n",
    "\n",
    "Un'ultima prova che farò è quella di usare sempre lo stesso modello, con tutte le features, ma a differenza di prima suddividerò i dati in training set e test set usando la data e non la funzione train_test_split(), effettuerò una suddivisione 50-50 perché altrimenti nel test set avrei soprattutto dati di fine pandemia:"
   ]
  },
  {
   "cell_type": "code",
   "execution_count": 53,
   "id": "7205c7ca",
   "metadata": {
    "id": "7205c7ca"
   },
   "outputs": [],
   "source": [
    "is_train =  pd.to_datetime(dataset.index).year < 2022\n",
    "\n",
    "X_prova_train = X.loc[is_train]\n",
    "y_prova_train = y[is_train]\n",
    "X_prova_test = X.loc[~is_train]\n",
    "y_prova_test = y[~is_train]"
   ]
  },
  {
   "cell_type": "markdown",
   "id": "94b70928",
   "metadata": {
    "id": "94b70928"
   },
   "source": [
    "I dati del 2020 e 2021 fanno parte del training set e i restanti del test set, ora cerco i parametri migliori:"
   ]
  },
  {
   "cell_type": "code",
   "execution_count": 54,
   "id": "ecf7b442",
   "metadata": {
    "id": "ecf7b442",
    "outputId": "0517210a-118f-438e-c02b-f084becd25e2"
   },
   "outputs": [
    {
     "data": {
      "text/html": [
       "<div>\n",
       "<style scoped>\n",
       "    .dataframe tbody tr th:only-of-type {\n",
       "        vertical-align: middle;\n",
       "    }\n",
       "\n",
       "    .dataframe tbody tr th {\n",
       "        vertical-align: top;\n",
       "    }\n",
       "\n",
       "    .dataframe thead th {\n",
       "        text-align: right;\n",
       "    }\n",
       "</style>\n",
       "<table border=\"1\" class=\"dataframe\">\n",
       "  <thead>\n",
       "    <tr style=\"text-align: right;\">\n",
       "      <th></th>\n",
       "      <th>mean_fit_time</th>\n",
       "      <th>std_fit_time</th>\n",
       "      <th>mean_score_time</th>\n",
       "      <th>std_score_time</th>\n",
       "      <th>param_poly__degree</th>\n",
       "      <th>param_regr__alpha</th>\n",
       "      <th>params</th>\n",
       "      <th>split0_test_score</th>\n",
       "      <th>split1_test_score</th>\n",
       "      <th>split2_test_score</th>\n",
       "      <th>split3_test_score</th>\n",
       "      <th>split4_test_score</th>\n",
       "      <th>mean_test_score</th>\n",
       "      <th>std_test_score</th>\n",
       "      <th>rank_test_score</th>\n",
       "    </tr>\n",
       "  </thead>\n",
       "  <tbody>\n",
       "    <tr>\n",
       "      <th>3</th>\n",
       "      <td>0.016401</td>\n",
       "      <td>0.002055</td>\n",
       "      <td>0.001998</td>\n",
       "      <td>8.449576e-07</td>\n",
       "      <td>3</td>\n",
       "      <td>0.1</td>\n",
       "      <td>{'poly__degree': 3, 'regr__alpha': 0.1}</td>\n",
       "      <td>0.791424</td>\n",
       "      <td>0.816670</td>\n",
       "      <td>0.898156</td>\n",
       "      <td>0.861713</td>\n",
       "      <td>0.843184</td>\n",
       "      <td>0.842229</td>\n",
       "      <td>0.036723</td>\n",
       "      <td>1</td>\n",
       "    </tr>\n",
       "    <tr>\n",
       "      <th>4</th>\n",
       "      <td>0.014204</td>\n",
       "      <td>0.000399</td>\n",
       "      <td>0.002397</td>\n",
       "      <td>4.870835e-04</td>\n",
       "      <td>3</td>\n",
       "      <td>1</td>\n",
       "      <td>{'poly__degree': 3, 'regr__alpha': 1}</td>\n",
       "      <td>0.767894</td>\n",
       "      <td>0.785635</td>\n",
       "      <td>0.892694</td>\n",
       "      <td>0.842869</td>\n",
       "      <td>0.826102</td>\n",
       "      <td>0.823039</td>\n",
       "      <td>0.044033</td>\n",
       "      <td>2</td>\n",
       "    </tr>\n",
       "    <tr>\n",
       "      <th>0</th>\n",
       "      <td>0.006802</td>\n",
       "      <td>0.000974</td>\n",
       "      <td>0.002597</td>\n",
       "      <td>4.909090e-04</td>\n",
       "      <td>2</td>\n",
       "      <td>0.1</td>\n",
       "      <td>{'poly__degree': 2, 'regr__alpha': 0.1}</td>\n",
       "      <td>0.744847</td>\n",
       "      <td>0.707537</td>\n",
       "      <td>0.862379</td>\n",
       "      <td>0.815541</td>\n",
       "      <td>0.818264</td>\n",
       "      <td>0.789713</td>\n",
       "      <td>0.055729</td>\n",
       "      <td>3</td>\n",
       "    </tr>\n",
       "    <tr>\n",
       "      <th>1</th>\n",
       "      <td>0.005204</td>\n",
       "      <td>0.000399</td>\n",
       "      <td>0.001995</td>\n",
       "      <td>4.862804e-07</td>\n",
       "      <td>2</td>\n",
       "      <td>1</td>\n",
       "      <td>{'poly__degree': 2, 'regr__alpha': 1}</td>\n",
       "      <td>0.686419</td>\n",
       "      <td>0.697758</td>\n",
       "      <td>0.812507</td>\n",
       "      <td>0.763098</td>\n",
       "      <td>0.758396</td>\n",
       "      <td>0.743636</td>\n",
       "      <td>0.046300</td>\n",
       "      <td>4</td>\n",
       "    </tr>\n",
       "    <tr>\n",
       "      <th>5</th>\n",
       "      <td>0.014204</td>\n",
       "      <td>0.000399</td>\n",
       "      <td>0.002395</td>\n",
       "      <td>4.900814e-04</td>\n",
       "      <td>3</td>\n",
       "      <td>10</td>\n",
       "      <td>{'poly__degree': 3, 'regr__alpha': 10}</td>\n",
       "      <td>0.690136</td>\n",
       "      <td>0.735956</td>\n",
       "      <td>0.807484</td>\n",
       "      <td>0.749246</td>\n",
       "      <td>0.729987</td>\n",
       "      <td>0.742562</td>\n",
       "      <td>0.037973</td>\n",
       "      <td>5</td>\n",
       "    </tr>\n",
       "    <tr>\n",
       "      <th>2</th>\n",
       "      <td>0.005005</td>\n",
       "      <td>0.000002</td>\n",
       "      <td>0.001794</td>\n",
       "      <td>3.996180e-04</td>\n",
       "      <td>2</td>\n",
       "      <td>10</td>\n",
       "      <td>{'poly__degree': 2, 'regr__alpha': 10}</td>\n",
       "      <td>0.636179</td>\n",
       "      <td>0.717368</td>\n",
       "      <td>0.672553</td>\n",
       "      <td>0.639807</td>\n",
       "      <td>0.654130</td>\n",
       "      <td>0.664007</td>\n",
       "      <td>0.029591</td>\n",
       "      <td>6</td>\n",
       "    </tr>\n",
       "  </tbody>\n",
       "</table>\n",
       "</div>"
      ],
      "text/plain": [
       "   mean_fit_time  std_fit_time  mean_score_time  std_score_time  \\\n",
       "3       0.016401      0.002055         0.001998    8.449576e-07   \n",
       "4       0.014204      0.000399         0.002397    4.870835e-04   \n",
       "0       0.006802      0.000974         0.002597    4.909090e-04   \n",
       "1       0.005204      0.000399         0.001995    4.862804e-07   \n",
       "5       0.014204      0.000399         0.002395    4.900814e-04   \n",
       "2       0.005005      0.000002         0.001794    3.996180e-04   \n",
       "\n",
       "  param_poly__degree param_regr__alpha  \\\n",
       "3                  3               0.1   \n",
       "4                  3                 1   \n",
       "0                  2               0.1   \n",
       "1                  2                 1   \n",
       "5                  3                10   \n",
       "2                  2                10   \n",
       "\n",
       "                                    params  split0_test_score  \\\n",
       "3  {'poly__degree': 3, 'regr__alpha': 0.1}           0.791424   \n",
       "4    {'poly__degree': 3, 'regr__alpha': 1}           0.767894   \n",
       "0  {'poly__degree': 2, 'regr__alpha': 0.1}           0.744847   \n",
       "1    {'poly__degree': 2, 'regr__alpha': 1}           0.686419   \n",
       "5   {'poly__degree': 3, 'regr__alpha': 10}           0.690136   \n",
       "2   {'poly__degree': 2, 'regr__alpha': 10}           0.636179   \n",
       "\n",
       "   split1_test_score  split2_test_score  split3_test_score  split4_test_score  \\\n",
       "3           0.816670           0.898156           0.861713           0.843184   \n",
       "4           0.785635           0.892694           0.842869           0.826102   \n",
       "0           0.707537           0.862379           0.815541           0.818264   \n",
       "1           0.697758           0.812507           0.763098           0.758396   \n",
       "5           0.735956           0.807484           0.749246           0.729987   \n",
       "2           0.717368           0.672553           0.639807           0.654130   \n",
       "\n",
       "   mean_test_score  std_test_score  rank_test_score  \n",
       "3         0.842229        0.036723                1  \n",
       "4         0.823039        0.044033                2  \n",
       "0         0.789713        0.055729                3  \n",
       "1         0.743636        0.046300                4  \n",
       "5         0.742562        0.037973                5  \n",
       "2         0.664007        0.029591                6  "
      ]
     },
     "execution_count": 54,
     "metadata": {},
     "output_type": "execute_result"
    }
   ],
   "source": [
    "gs.fit(X_prova_train, y_prova_train)\n",
    "pd.DataFrame(gs.cv_results_).sort_values(\"mean_test_score\", ascending=False)"
   ]
  },
  {
   "cell_type": "markdown",
   "id": "d38d2b23",
   "metadata": {
    "id": "d38d2b23"
   },
   "source": [
    "Visualizzo i risultati:"
   ]
  },
  {
   "cell_type": "code",
   "execution_count": 55,
   "id": "17929c17",
   "metadata": {
    "id": "17929c17",
    "outputId": "9d53ce77-e48b-4eab-9b6b-1ff3b81752b7"
   },
   "outputs": [
    {
     "name": "stdout",
     "output_type": "stream",
     "text": [
      "TRAIN -----------------------\n",
      "       Relative error: 138.43005%\n",
      "R-squared coefficient: 0.86098\n",
      "TEST ------------------------\n",
      "       Relative error: 452.94819%\n",
      "R-squared coefficient: 0.20103\n"
     ]
    }
   ],
   "source": [
    "print_data(X_prova_train, X_prova_test, y_prova_train, y_prova_test, gs)"
   ]
  },
  {
   "cell_type": "markdown",
   "id": "0b835bf3",
   "metadata": {
    "id": "0b835bf3"
   },
   "source": [
    "Si può vedere che effettuando questa tipologia di split ottengo valori molto diversi tra training set e test set, questo perché come abbiamo visto anche prima, ci sono notevoli differenze nei dati a seconda dell'anno.\n",
    "\n",
    "Proprio a causa di queste differenze da un anno all'altro, ora creerò nuovi modelli che addestrerò su dataset più piccoli che si riferiscono ai singoli anni, l'obiettivo è quello di concentrarsi su intervalli di tempo più piccoli per vedere se si possono ottenere dei modelli migliori."
   ]
  },
  {
   "cell_type": "markdown",
   "id": "2b4236ee",
   "metadata": {
    "id": "2b4236ee"
   },
   "source": [
    "# 2020"
   ]
  },
  {
   "cell_type": "markdown",
   "id": "976432c4",
   "metadata": {
    "id": "976432c4"
   },
   "source": [
    "Per prima cosa vediamo il grafico relativo al 2020:"
   ]
  },
  {
   "cell_type": "code",
   "execution_count": 56,
   "id": "2e4977d1",
   "metadata": {
    "id": "2e4977d1",
    "outputId": "d79fc1a1-e3d2-4c87-a0b4-16c981a88404"
   },
   "outputs": [
    {
     "data": {
      "image/png": "[encoded data removed]",
      "text/plain": [
       "<Figure size 720x432 with 1 Axes>"
      ]
     },
     "metadata": {
      "needs_background": "light"
     },
     "output_type": "display_data"
    }
   ],
   "source": [
    "#2020\n",
    "title = f\"Grafico che rappresenta in blu l'andamento nella Prima metà del 2020 e nella Seconda metà 2020\"\n",
    "plot_grafico(dataset1_2020, dataset2_2020, \"Prima metà 2020\", \"Seconda metà 2020\", title)"
   ]
  },
  {
   "cell_type": "markdown",
   "id": "418cd418",
   "metadata": {
    "id": "418cd418"
   },
   "source": [
    "Notiamo un andamento abbastanza diverso tra la prima metà e la seconda metà del 2020, usiamo il dataset che si riferisce ai dati dell'intero 2020, questa volta useremo una regressione Lasso, con standardizzazione eseguita con filtro `StandardScaler`:"
   ]
  },
  {
   "cell_type": "code",
   "execution_count": 57,
   "id": "a3b5c91f",
   "metadata": {
    "id": "a3b5c91f"
   },
   "outputs": [],
   "source": [
    "X_2020 = dataset_2020.drop('nuovi_positivi', axis=1)\n",
    "y_2020 = dataset_2020['nuovi_positivi']\n",
    "\n",
    "X_train_2020, X_test_2020, y_train_2020, y_test_2020 = train_test_split(X_2020, y_2020, test_size=0.2, random_state=42)"
   ]
  },
  {
   "cell_type": "code",
   "execution_count": 58,
   "id": "ca7d2713",
   "metadata": {
    "id": "ca7d2713",
    "outputId": "db872964-16a0-4ff4-8a2f-08123f525cf7"
   },
   "outputs": [
    {
     "name": "stdout",
     "output_type": "stream",
     "text": [
      "TRAIN -----------------------\n",
      "       Relative error: 203.59872%\n",
      "R-squared coefficient: 0.89259\n",
      "TEST ------------------------\n",
      "       Relative error: 190.43475%\n",
      "R-squared coefficient: 0.81163\n"
     ]
    }
   ],
   "source": [
    "modelLasso = Pipeline([\n",
    "     (\"poly\",  PolynomialFeatures(degree=2, include_bias=False)),\n",
    "    (\"scale\", StandardScaler()),\n",
    "    (\"regr\", Lasso(alpha=1))\n",
    "])\n",
    "modelLasso.fit(X_train_2020, y_train_2020)\n",
    "print_data(X_train_2020, X_test_2020, y_train_2020, y_test_2020, modelLasso)"
   ]
  },
  {
   "cell_type": "markdown",
   "id": "342745e7",
   "metadata": {
    "id": "342745e7"
   },
   "source": [
    "Notiamo che l'errore relativo è alto, mentre Il _coefficiente di determinazione_ $R^2$ ha un buon valore, proviamo ora a creare dei modelli separati, uno per la prima metà del 2020, e un altro per la seconda metà:"
   ]
  },
  {
   "cell_type": "code",
   "execution_count": 60,
   "id": "16a68b5c",
   "metadata": {
    "id": "16a68b5c",
    "outputId": "3dd6db90-ade9-4929-b445-84bedc95bcc8"
   },
   "outputs": [
    {
     "data": {
      "image/png": "[encoded data removed]",
      "text/plain": [
       "<Figure size 720x432 with 1 Axes>"
      ]
     },
     "metadata": {
      "needs_background": "light"
     },
     "output_type": "display_data"
    },
    {
     "data": {
      "image/png": "[encoded data removed]",
      "text/plain": [
       "<Figure size 720x432 with 1 Axes>"
      ]
     },
     "metadata": {
      "needs_background": "light"
     },
     "output_type": "display_data"
    }
   ],
   "source": [
    "title = f\"Grafico che rappresenta l'andamento dell'epidemia nella prima metà del 2020\"\n",
    "plot_singolo_grafico(dataset1_2020, \"Prima metà 2020\", title)\n",
    "\n",
    "title = f\"Grafico che rappresenta l'andamento dell'epidemia nella prima metà del 2020\"\n",
    "plot_singolo_grafico(dataset2_2020, \"Seconda metà 2020\", title)"
   ]
  },
  {
   "cell_type": "markdown",
   "id": "23c2caaa",
   "metadata": {
    "id": "23c2caaa"
   },
   "source": [
    "Si può capire già graficamente che il modello per la seconda metà del 2020 sarà più preciso perché sono dei dati più interpretabili, invece nella prima metà del 2020 sono molto sparsi, utilizziamo lo stesso modello usato per il dataset del 2020, ma applicato ai due dataset creati in precedenza:"
   ]
  },
  {
   "cell_type": "markdown",
   "id": "ed74cf41",
   "metadata": {
    "id": "ed74cf41"
   },
   "source": [
    "#### Prima metà 2020"
   ]
  },
  {
   "cell_type": "code",
   "execution_count": 61,
   "id": "c6e1bbd7",
   "metadata": {
    "id": "c6e1bbd7"
   },
   "outputs": [],
   "source": [
    "X1_2020 = dataset1_2020.drop('nuovi_positivi', axis=1)\n",
    "y1_2020 = dataset1_2020['nuovi_positivi']\n",
    "\n",
    "X1_train_2020, X1_test_2020, y1_train_2020, y1_test_2020 = train_test_split(X1_2020, y1_2020, test_size=0.2, random_state=42)"
   ]
  },
  {
   "cell_type": "code",
   "execution_count": 62,
   "id": "0ccbbfd7",
   "metadata": {
    "id": "0ccbbfd7",
    "outputId": "b0d8a057-5bff-4905-9595-407b5148f187"
   },
   "outputs": [
    {
     "name": "stdout",
     "output_type": "stream",
     "text": [
      "TRAIN -----------------------\n",
      "       Relative error: 283.09103%\n",
      "R-squared coefficient: 0.20257\n",
      "TEST ------------------------\n",
      "       Relative error: 379.71170%\n",
      "R-squared coefficient: 0.18615\n"
     ]
    }
   ],
   "source": [
    "modelLasso = Pipeline([\n",
    "     (\"poly\",  PolynomialFeatures(degree=4, include_bias=False)),\n",
    "    (\"scale\", StandardScaler()),\n",
    "    (\"regr\", Lasso(alpha=1))\n",
    "])\n",
    "modelLasso.fit(X1_train_2020, y1_train_2020)\n",
    "print_data(X1_train_2020, X1_test_2020, y1_train_2020, y1_test_2020, modelLasso)"
   ]
  },
  {
   "cell_type": "markdown",
   "id": "a2b07011",
   "metadata": {
    "id": "a2b07011"
   },
   "source": [
    "Vediamo che come ci aspettavamo il modello non performa per niente bene, e a differenza del modello precedente ho usato anche un grado maggiore per la polynomial feature, altrimenti performava anche peggio, invece ora applichiamo lo stesso modello al dataset della seconda metà del 2020, e mi aspetto un incremento notevole delle performance del modello:"
   ]
  },
  {
   "cell_type": "markdown",
   "id": "5295a032",
   "metadata": {
    "id": "5295a032"
   },
   "source": [
    "#### Seconda metà 2020"
   ]
  },
  {
   "cell_type": "code",
   "execution_count": 63,
   "id": "f028125a",
   "metadata": {
    "id": "f028125a"
   },
   "outputs": [],
   "source": [
    "X2_2020 = dataset2_2020.drop('nuovi_positivi', axis=1)\n",
    "y2_2020 = dataset2_2020['nuovi_positivi']\n",
    "\n",
    "X2_train_2020, X2_test_2020, y2_train_2020, y2_test_2020 = train_test_split(X2_2020, y2_2020, test_size=0.2, random_state=42)"
   ]
  },
  {
   "cell_type": "code",
   "execution_count": 64,
   "id": "93b318b1",
   "metadata": {
    "id": "93b318b1",
    "outputId": "c17c466f-797a-4028-80c4-26c49549dd54"
   },
   "outputs": [
    {
     "name": "stdout",
     "output_type": "stream",
     "text": [
      "TRAIN -----------------------\n",
      "       Relative error: 70.68422%\n",
      "R-squared coefficient: 0.86122\n",
      "TEST ------------------------\n",
      "       Relative error: 64.52298%\n",
      "R-squared coefficient: 0.8513\n"
     ]
    }
   ],
   "source": [
    "modelLasso = Pipeline([\n",
    "     (\"poly\",  PolynomialFeatures(degree=2, include_bias=False)),\n",
    "    (\"scale\", StandardScaler()),\n",
    "    (\"regr\", Lasso(alpha=1))\n",
    "])\n",
    "modelLasso.fit(X2_train_2020, y2_train_2020)\n",
    "print_data(X2_train_2020, X2_test_2020, y2_train_2020, y2_test_2020, modelLasso)"
   ]
  },
  {
   "cell_type": "markdown",
   "id": "083a5939",
   "metadata": {
    "id": "083a5939"
   },
   "source": [
    "Come mi aspettavo gli indici di valutazione di questo modello sono nettamente migliori rispetto a quello della prima metà del 2020, da notare che l'epidemia è scoppiata nei primi mesi del 2020 e quindi questo potrebbe essere uno dei motivi della sparsità dei dati nella prima metà del 2020."
   ]
  },
  {
   "cell_type": "markdown",
   "id": "7a121f1d",
   "metadata": {
    "id": "7a121f1d"
   },
   "source": [
    "# 2021"
   ]
  },
  {
   "cell_type": "markdown",
   "id": "010bc14b",
   "metadata": {
    "id": "010bc14b"
   },
   "source": [
    "Come fatto prima visualizziamo prima i grafici dell''andamento dell'epidemia:"
   ]
  },
  {
   "cell_type": "code",
   "execution_count": 65,
   "id": "7cefa1a5",
   "metadata": {
    "id": "7cefa1a5",
    "outputId": "61015780-6cc8-4ebf-da5a-03a9c5d888de"
   },
   "outputs": [
    {
     "data": {
      "image/png": "[encoded data removed]",
      "text/plain": [
       "<Figure size 720x432 with 1 Axes>"
      ]
     },
     "metadata": {
      "needs_background": "light"
     },
     "output_type": "display_data"
    }
   ],
   "source": [
    "title = f\"Grafico che rappresenta in blu l'andamento nella Prima metà del 2021 e nella Seconda metà 2021\"\n",
    "plot_grafico(dataset1_2021, dataset2_2021, \"Prima metà 2021\", \"Seconda metà 2021\", title)"
   ]
  },
  {
   "cell_type": "markdown",
   "id": "6211abff",
   "metadata": {
    "id": "6211abff"
   },
   "source": [
    "Notiamo che nella seconda metà del 2021 il numero di positivi inizia ad aumentare, questo perché nel 2022 abbiamo avuto poi il picco dei contagi, e quindi, come giustamente vediamo anche dal grafico, i positivi iniziano ad aumentare già a partire dalla seconda metà 2021.\n",
    "\n",
    "Questa volta useremo una regressione elastic net:\n"
   ]
  },
  {
   "cell_type": "code",
   "execution_count": 66,
   "id": "047e06a8",
   "metadata": {
    "id": "047e06a8"
   },
   "outputs": [],
   "source": [
    "X_2021 = dataset_2021.drop('nuovi_positivi', axis=1)\n",
    "y_2021 = dataset_2021['nuovi_positivi']\n",
    "\n",
    "X_train_2021, X_test_2021, y_train_2021, y_test_2021 = train_test_split(X_2021, y_2021, test_size=0.2, random_state=42)"
   ]
  },
  {
   "cell_type": "code",
   "execution_count": 67,
   "id": "64c9eb29",
   "metadata": {
    "id": "64c9eb29"
   },
   "outputs": [],
   "source": [
    "kfold_5 = KFold(5, shuffle=True, random_state=42)"
   ]
  },
  {
   "cell_type": "code",
   "execution_count": 68,
   "id": "db4da815",
   "metadata": {
    "id": "db4da815"
   },
   "outputs": [],
   "source": [
    "modelElastic = Pipeline([\n",
    "    (\"poly\",   PolynomialFeatures(include_bias=False)),\n",
    "    (\"scale\",  StandardScaler()),\n",
    "    (\"regr\", ElasticNet())\n",
    "])"
   ]
  },
  {
   "cell_type": "code",
   "execution_count": 69,
   "id": "0f178953",
   "metadata": {
    "id": "0f178953",
    "outputId": "6362324f-981f-42b1-9381-85e2f86954db"
   },
   "outputs": [
    {
     "name": "stdout",
     "output_type": "stream",
     "text": [
      "TRAIN -----------------------\n",
      "       Relative error: 55.22494%\n",
      "R-squared coefficient: 0.93341\n",
      "TEST ------------------------\n",
      "       Relative error: 52.64270%\n",
      "R-squared coefficient: 0.80188\n"
     ]
    }
   ],
   "source": [
    "grid = {\n",
    "    \"poly__degree\": [2, 3, 4],\n",
    "    \"regr__alpha\":    [0.1, 1, 10],\n",
    "    \"regr__l1_ratio\": [0.1, 0.2, 0.5]\n",
    "}\n",
    "gs = GridSearchCV(modelElastic, grid, cv=kfold_5)\n",
    "gs.fit(X_train_2021, y_train_2021)\n",
    "print_data(X_train_2021, X_test_2021, y_train_2021, y_test_2021, gs)"
   ]
  },
  {
   "cell_type": "markdown",
   "id": "db300b6e",
   "metadata": {
    "id": "db300b6e"
   },
   "source": [
    "Abbiamo ottenuto un modello che si comporta molto meglio rispetto al modello addestrato e testato sull'intero 2020.\n",
    "\n",
    "Ora guardiamo in dettaglio i grafici relativi alla prima e alla seconda metà del 2021:"
   ]
  },
  {
   "cell_type": "code",
   "execution_count": 70,
   "id": "08ae833c",
   "metadata": {
    "id": "08ae833c",
    "outputId": "833d2f76-786e-40fb-85b6-cc7bcec1b276"
   },
   "outputs": [
    {
     "data": {
      "image/png": "[encoded data removed]",
      "text/plain": [
       "<Figure size 720x432 with 1 Axes>"
      ]
     },
     "metadata": {
      "needs_background": "light"
     },
     "output_type": "display_data"
    },
    {
     "data": {
      "image/png": "[encoded data removed]",
      "text/plain": [
       "<Figure size 720x432 with 1 Axes>"
      ]
     },
     "metadata": {
      "needs_background": "light"
     },
     "output_type": "display_data"
    }
   ],
   "source": [
    "title = f\"Grafico che rappresenta l'andamento dell'epidemia nella prima metà del 2021\"\n",
    "plot_singolo_grafico(dataset1_2021, \"Prima metà 2021\", title)\n",
    "\n",
    "title = f\"Grafico che rappresenta l'andamento dell'epidemia nella prima metà del 2021\"\n",
    "plot_singolo_grafico(dataset2_2021, \"Seconda metà 2021\", title)"
   ]
  },
  {
   "cell_type": "markdown",
   "id": "6c3a5b89",
   "metadata": {
    "id": "6c3a5b89"
   },
   "source": [
    "Come successo per il 2020 nel primo grafico notiamo una grande sparsità dei dati (anche se meno rispetto al 2020), mentre nel secondo grafico l'andamento è più prevedibile e quindi anche in questo caso mi aspetto che il modello addestrato sul dataset relativo alla seconda metà del 2021 sia migliore di quello della prima metà.\n",
    "\n",
    "Ora usiamo lo stesso modello precedente ma lo addestriamo e testiamo sulla prima e sulla seconda metà del 2021:"
   ]
  },
  {
   "cell_type": "markdown",
   "id": "3a328bb5",
   "metadata": {
    "id": "3a328bb5"
   },
   "source": [
    "#### Prima metà 2021"
   ]
  },
  {
   "cell_type": "code",
   "execution_count": 71,
   "id": "1b5bad6d",
   "metadata": {
    "id": "1b5bad6d"
   },
   "outputs": [],
   "source": [
    "X1_2021 = dataset1_2021.drop('nuovi_positivi', axis=1)\n",
    "y1_2021 = dataset1_2021['nuovi_positivi']\n",
    "\n",
    "X1_train_2021, X1_test_2021, y1_train_2021, y1_test_2021 = train_test_split(X1_2021, y1_2021, test_size=0.2, random_state=42)"
   ]
  },
  {
   "cell_type": "code",
   "execution_count": 72,
   "id": "1ac7b2cf",
   "metadata": {
    "id": "1ac7b2cf",
    "outputId": "fdaaf7de-68b9-4d34-e065-a1432beb72c4"
   },
   "outputs": [
    {
     "name": "stdout",
     "output_type": "stream",
     "text": [
      "TRAIN -----------------------\n",
      "       Relative error: 50.57001%\n",
      "R-squared coefficient: 0.7707\n",
      "TEST ------------------------\n",
      "       Relative error: 48.04986%\n",
      "R-squared coefficient: 0.73471\n"
     ]
    }
   ],
   "source": [
    "gs = GridSearchCV(modelElastic, grid, cv=kfold_5)\n",
    "gs.fit(X1_train_2021, y1_train_2021)\n",
    "print_data(X1_train_2021, X1_test_2021, y1_train_2021, y1_test_2021, gs)"
   ]
  },
  {
   "cell_type": "markdown",
   "id": "7216be37",
   "metadata": {
    "id": "7216be37"
   },
   "source": [
    "#### Seconda metà 2021"
   ]
  },
  {
   "cell_type": "code",
   "execution_count": 73,
   "id": "5cce8372",
   "metadata": {
    "id": "5cce8372"
   },
   "outputs": [],
   "source": [
    "X2_2021 = dataset2_2021.drop('nuovi_positivi', axis=1)\n",
    "y2_2021 = dataset2_2021['nuovi_positivi']\n",
    "\n",
    "X2_train_2021, X2_test_2021, y2_train_2021, y2_test_2021 = train_test_split(X2_2021, y2_2021, test_size=0.2, random_state=42)"
   ]
  },
  {
   "cell_type": "code",
   "execution_count": 74,
   "id": "8001bc65",
   "metadata": {
    "id": "8001bc65",
    "outputId": "0dd96a32-3a8f-4d66-f872-4622af384192"
   },
   "outputs": [
    {
     "name": "stdout",
     "output_type": "stream",
     "text": [
      "TRAIN -----------------------\n",
      "       Relative error: 57.34236%\n",
      "R-squared coefficient: 0.95251\n",
      "TEST ------------------------\n",
      "       Relative error: 38.09596%\n",
      "R-squared coefficient: 0.88153\n"
     ]
    }
   ],
   "source": [
    "gs.fit(X2_train_2021, y2_train_2021)\n",
    "print_data(X2_train_2021, X2_test_2021, y2_train_2021, y2_test_2021, gs)"
   ]
  },
  {
   "cell_type": "markdown",
   "id": "3b90cf2e",
   "metadata": {
    "id": "3b90cf2e"
   },
   "source": [
    "Abbiamo ottenuto dei valori che sono in linea con il modello addestrato e testato sull'intero 2021"
   ]
  },
  {
   "cell_type": "markdown",
   "id": "a6db77b7",
   "metadata": {
    "id": "a6db77b7"
   },
   "source": [
    "# 2022"
   ]
  },
  {
   "cell_type": "code",
   "execution_count": 75,
   "id": "2bfdf174",
   "metadata": {
    "id": "2bfdf174",
    "outputId": "944b97b2-48cd-48dd-c45b-cd05b303a884"
   },
   "outputs": [
    {
     "data": {
      "image/png": "[encoded data removed]",
      "text/plain": [
       "<Figure size 720x432 with 1 Axes>"
      ]
     },
     "metadata": {
      "needs_background": "light"
     },
     "output_type": "display_data"
    }
   ],
   "source": [
    "title = f\"Grafico che rappresenta in blu l'andamento nella Prima metà del 2022 e nella Seconda metà 2022\"\n",
    "plot_grafico(dataset1_2022, dataset2_2022, \"Prima metà 2022\", \"Seconda metà 2022\", title)"
   ]
  },
  {
   "cell_type": "markdown",
   "id": "a7d4e7b1",
   "metadata": {
    "id": "a7d4e7b1"
   },
   "source": [
    "Possiamo vedere che nel 2022, rispetto al 2020 e 2021, l'andamento tra la prima e la seconda metà è più simile"
   ]
  },
  {
   "cell_type": "code",
   "execution_count": 76,
   "id": "930f07f6",
   "metadata": {
    "id": "930f07f6"
   },
   "outputs": [],
   "source": [
    "#creo X e y\n",
    "X_2022 = dataset_2022.drop('nuovi_positivi', axis=1)\n",
    "y_2022 = dataset_2022['nuovi_positivi']\n",
    "\n",
    "X_train_2022, X_test_2022, y_train_2022, y_test_2022 = train_test_split(X_2022, y_2022, test_size=0.2, random_state=42)"
   ]
  },
  {
   "cell_type": "code",
   "execution_count": 77,
   "id": "2101291d",
   "metadata": {
    "id": "2101291d"
   },
   "outputs": [],
   "source": [
    "modelKernel = Pipeline([\n",
    "    (\"scale\", StandardScaler()),\n",
    "    (\"regr\",  KernelRidge(alpha=20, kernel=\"poly\"))\n",
    "])"
   ]
  },
  {
   "cell_type": "code",
   "execution_count": 78,
   "id": "4aec1faf",
   "metadata": {
    "id": "4aec1faf",
    "outputId": "1f03c8d9-9e8a-47b9-fc4b-b3fe3c615435"
   },
   "outputs": [
    {
     "name": "stdout",
     "output_type": "stream",
     "text": [
      "TRAIN -----------------------\n",
      "       Relative error: 13.18028%\n",
      "R-squared coefficient: 0.96584\n",
      "TEST ------------------------\n",
      "       Relative error: 11.96942%\n",
      "R-squared coefficient: 0.9491\n"
     ]
    }
   ],
   "source": [
    "gridKernel = {\n",
    "    \"regr__degree\": [2, 3, 4],\n",
    "    \"regr__alpha\":  np.linspace(0.1, 10, 20),\n",
    "}\n",
    "\n",
    "gs = GridSearchCV(modelKernel, gridKernel, cv=kfold_5)\n",
    "gs.fit(X_train_2022, y_train_2022);\n",
    "print_data(X_train_2022, X_test_2022, y_train_2022, y_test_2022, gs)"
   ]
  },
  {
   "cell_type": "markdown",
   "id": "3acd1aa3",
   "metadata": {
    "id": "3acd1aa3"
   },
   "source": [
    "Dagli indici di valutazione del modello possiamo vedere ciò che avevamo già osservato nel grafico, ovvero che l'andamento tra la prima metà e la seconda metà è simile, e quindi questo modello, che è stato addestrato e testato sull'intero 2022, si comporta in maniera migliore rispetto agli altri modelli addestrati e testati sull'intero 2020 e 2021."
   ]
  },
  {
   "cell_type": "code",
   "execution_count": 79,
   "id": "39bdaaf7",
   "metadata": {
    "id": "39bdaaf7",
    "outputId": "6f29bcde-036d-4b4f-8a71-0c64f4c97fd6"
   },
   "outputs": [
    {
     "data": {
      "image/png": "[encoded data removed]",
      "text/plain": [
       "<Figure size 720x432 with 1 Axes>"
      ]
     },
     "metadata": {
      "needs_background": "light"
     },
     "output_type": "display_data"
    },
    {
     "data": {
      "image/png": "[encoded data removed]",
      "text/plain": [
       "<Figure size 720x432 with 1 Axes>"
      ]
     },
     "metadata": {
      "needs_background": "light"
     },
     "output_type": "display_data"
    }
   ],
   "source": [
    "title = f\"Grafico che rappresenta l'andamento dell'epidemia nella prima metà del 2022\"\n",
    "plot_singolo_grafico(dataset1_2022, \"Prima metà 2022\", title)\n",
    "\n",
    "title = f\"Grafico che rappresenta l'andamento dell'epidemia nella prima metà del 2022\"\n",
    "plot_singolo_grafico(dataset2_2022, \"Seconda metà 2022\", title)"
   ]
  },
  {
   "cell_type": "markdown",
   "id": "08dfabe8",
   "metadata": {
    "id": "08dfabe8"
   },
   "source": [
    "Come fatto prima, anche se qui c'è ne meno bisogno, perché il modello trovato già si comporta bene, applichiamo lo stesso modello ai dati della prima e della seconda metà del 2022:"
   ]
  },
  {
   "cell_type": "markdown",
   "id": "fef05299",
   "metadata": {
    "id": "fef05299"
   },
   "source": [
    "#### Prima metà 2022"
   ]
  },
  {
   "cell_type": "code",
   "execution_count": 80,
   "id": "6e87b04e",
   "metadata": {
    "id": "6e87b04e"
   },
   "outputs": [],
   "source": [
    "X1_2022 = dataset1_2022.drop('nuovi_positivi', axis=1)\n",
    "y1_2022 = dataset1_2022['nuovi_positivi']\n",
    "\n",
    "X1_train_2022, X1_test_2022, y1_train_2022, y1_test_2022 = train_test_split(X1_2022, y1_2022, test_size=0.2, random_state=42)"
   ]
  },
  {
   "cell_type": "code",
   "execution_count": 81,
   "id": "0d103a0d",
   "metadata": {
    "id": "0d103a0d",
    "outputId": "a2411252-8ddc-4a4f-ccb7-b02df18ee38b"
   },
   "outputs": [
    {
     "name": "stdout",
     "output_type": "stream",
     "text": [
      "TRAIN -----------------------\n",
      "       Relative error: 18.83272%\n",
      "R-squared coefficient: 0.93851\n",
      "TEST ------------------------\n",
      "       Relative error: 22.58130%\n",
      "R-squared coefficient: 0.95759\n"
     ]
    }
   ],
   "source": [
    "gs.fit(X1_train_2022, y1_train_2022);\n",
    "print_data(X1_train_2022, X1_test_2022, y1_train_2022, y1_test_2022, gs)"
   ]
  },
  {
   "cell_type": "markdown",
   "id": "31cf942b",
   "metadata": {
    "id": "31cf942b"
   },
   "source": [
    "#### Seconda metà 2022"
   ]
  },
  {
   "cell_type": "code",
   "execution_count": 82,
   "id": "ac7fa8d0",
   "metadata": {
    "id": "ac7fa8d0"
   },
   "outputs": [],
   "source": [
    "X2_2022 = dataset2_2022.drop('nuovi_positivi', axis=1)\n",
    "y2_2022 = dataset2_2022['nuovi_positivi']\n",
    "\n",
    "X2_train_2022, X2_test_2022, y2_train_2022, y2_test_2022 = train_test_split(X2_2022, y2_2022, test_size=0.2, random_state=42)"
   ]
  },
  {
   "cell_type": "code",
   "execution_count": 83,
   "id": "9baab0d2",
   "metadata": {
    "id": "9baab0d2",
    "outputId": "4164cf67-7cdf-4b6d-a3bc-d5d91f003fb7"
   },
   "outputs": [
    {
     "name": "stdout",
     "output_type": "stream",
     "text": [
      "TRAIN -----------------------\n",
      "       Relative error: 10.35719%\n",
      "R-squared coefficient: 0.9677\n",
      "TEST ------------------------\n",
      "       Relative error: 12.01138%\n",
      "R-squared coefficient: 0.88071\n"
     ]
    }
   ],
   "source": [
    "gs.fit(X2_train_2022, y2_train_2022);\n",
    "print_data(X2_train_2022, X2_test_2022, y2_train_2022, y2_test_2022, gs)"
   ]
  },
  {
   "cell_type": "markdown",
   "id": "ad8746ea",
   "metadata": {
    "id": "ad8746ea"
   },
   "source": [
    "Entrambi i modelli hanno buoni indici di valutazione, e tra quelli analizzati fino ad ora il 2022 è quello più \"prevedibile\", ovvero quello dove il modello trovato ha la percentuale di errore più bassa."
   ]
  },
  {
   "cell_type": "markdown",
   "id": "3ed6b4b2",
   "metadata": {
    "id": "3ed6b4b2"
   },
   "source": [
    "# 2023"
   ]
  },
  {
   "cell_type": "markdown",
   "id": "7a468c21",
   "metadata": {
    "id": "7a468c21"
   },
   "source": [
    "Ora valutiamo i dati del 2023:"
   ]
  },
  {
   "cell_type": "code",
   "execution_count": 84,
   "id": "ecd9a441",
   "metadata": {
    "id": "ecd9a441",
    "outputId": "f133331b-2216-43b6-87ce-2432e511116e"
   },
   "outputs": [
    {
     "data": {
      "image/png": "[encoded data removed]",
      "text/plain": [
       "<Figure size 720x432 with 1 Axes>"
      ]
     },
     "metadata": {
      "needs_background": "light"
     },
     "output_type": "display_data"
    }
   ],
   "source": [
    "title = f\"Grafico che rappresenta in blu l'andamento nella Prima metà del 2023 e nella Seconda metà 2023\"\n",
    "plot_grafico(dataset1_2023, dataset2_2023, \"Prima metà 2023\", \"Seconda metà 2023\", title)"
   ]
  },
  {
   "cell_type": "markdown",
   "id": "12bc8163",
   "metadata": {
    "id": "12bc8163"
   },
   "source": [
    "Notiamo che l'andamento è diverso all'interno del 2023, con i punti del grafico che quasi formano due linee ben distinguibili, proviamo ora ad usare il modello usato per il 2022, cercando ovviamente prima i migliori parametri da usare:"
   ]
  },
  {
   "cell_type": "code",
   "execution_count": 89,
   "id": "529f8530",
   "metadata": {},
   "outputs": [],
   "source": [
    "#creo X e y\n",
    "X_2023 = dataset_2023.drop('nuovi_positivi', axis=1)\n",
    "y_2023 = dataset_2023['nuovi_positivi']\n",
    "\n",
    "X_train_2023, X_test_2023, y_train_2023, y_test_2023 = train_test_split(X_2023, y_2023, test_size=0.2, random_state=42)"
   ]
  },
  {
   "cell_type": "code",
   "execution_count": 87,
   "id": "64439326",
   "metadata": {
    "id": "64439326"
   },
   "outputs": [],
   "source": [
    "modelKernel = Pipeline([\n",
    "    (\"scale\", StandardScaler()),\n",
    "    (\"regr\",  KernelRidge(alpha=20, kernel=\"poly\"))\n",
    "])"
   ]
  },
  {
   "cell_type": "code",
   "execution_count": 91,
   "id": "1995e7c5",
   "metadata": {
    "id": "1995e7c5",
    "outputId": "8265c97e-1f71-475d-a773-a7f48c105b87"
   },
   "outputs": [
    {
     "name": "stdout",
     "output_type": "stream",
     "text": [
      "TRAIN -----------------------\n",
      "       Relative error: 27.63917%\n",
      "R-squared coefficient: 0.91956\n",
      "TEST ------------------------\n",
      "       Relative error: 29.94860%\n",
      "R-squared coefficient: 0.86206\n"
     ]
    }
   ],
   "source": [
    "gs = GridSearchCV(modelKernel, gridKernel, cv=kfold_5)\n",
    "gs.fit(X_train_2023, y_train_2023);\n",
    "print_data(X_train_2023, X_test_2023, y_train_2023, y_test_2023, gs)"
   ]
  },
  {
   "cell_type": "markdown",
   "id": "8a7273f1",
   "metadata": {
    "id": "8a7273f1"
   },
   "source": [
    "Possiamo vedere che il modello non performa benissimo, proviamo invece a scomporre il dataset del 2023 in 2 parti e vediamo se riusciamo a trovare dei modelli migliori:"
   ]
  },
  {
   "cell_type": "code",
   "execution_count": 92,
   "id": "26d21a38",
   "metadata": {
    "id": "26d21a38",
    "outputId": "778ca89a-3852-4b75-a7d3-7884fbb4e44b"
   },
   "outputs": [
    {
     "data": {
      "image/png": "[encoded data removed]",
      "text/plain": [
       "<Figure size 720x432 with 1 Axes>"
      ]
     },
     "metadata": {
      "needs_background": "light"
     },
     "output_type": "display_data"
    },
    {
     "data": {
      "image/png": "[encoded data removed]",
      "text/plain": [
       "<Figure size 720x432 with 1 Axes>"
      ]
     },
     "metadata": {
      "needs_background": "light"
     },
     "output_type": "display_data"
    }
   ],
   "source": [
    "title = f\"Grafico che rappresenta l'andamento dell'epidemia nella prima metà del 2023\"\n",
    "plot_singolo_grafico(dataset1_2023, \"Prima metà 2023\", title)\n",
    "\n",
    "title = f\"Grafico che rappresenta l'andamento dell'epidemia nella second ametà del 2023\"\n",
    "plot_singolo_grafico(dataset2_2023, \"Seconda metà 2023\", title)"
   ]
  },
  {
   "cell_type": "markdown",
   "id": "89080c14",
   "metadata": {
    "id": "89080c14"
   },
   "source": [
    "Tra le prima e la seconda parte del 2023 l'andamente è diverso ed ora cercheremo i parametri del modello migliori addestrando e testando su questi 2 dataset:"
   ]
  },
  {
   "cell_type": "markdown",
   "id": "3862bb67",
   "metadata": {
    "id": "3862bb67"
   },
   "source": [
    "#### Prima metà 2023"
   ]
  },
  {
   "cell_type": "code",
   "execution_count": 93,
   "id": "75b8037d",
   "metadata": {
    "id": "75b8037d"
   },
   "outputs": [],
   "source": [
    "X1_2023 = dataset1_2023.drop('nuovi_positivi', axis=1)\n",
    "y1_2023 = dataset1_2023['nuovi_positivi']\n",
    "\n",
    "X1_train_2023, X1_test_2023, y1_train_2023, y1_test_2023 = train_test_split(X1_2023, y1_2023, test_size=0.2, random_state=42)"
   ]
  },
  {
   "cell_type": "markdown",
   "id": "ea4b40c0",
   "metadata": {
    "id": "ea4b40c0"
   },
   "source": [
    "Cerchiamo i parametri:"
   ]
  },
  {
   "cell_type": "code",
   "execution_count": 94,
   "id": "b267ba3e",
   "metadata": {
    "id": "b267ba3e",
    "outputId": "a14f9386-18d6-4d87-b255-6e53089f2c70"
   },
   "outputs": [
    {
     "name": "stdout",
     "output_type": "stream",
     "text": [
      "TRAIN -----------------------\n",
      "       Relative error: 27.71039%\n",
      "R-squared coefficient: 0.87719\n",
      "TEST ------------------------\n",
      "       Relative error: 19.81648%\n",
      "R-squared coefficient: 0.87449\n"
     ]
    }
   ],
   "source": [
    "gridKernel = {\n",
    "    \"regr__degree\": [1, 2, 3],\n",
    "    \"regr__alpha\":  np.linspace(0.1, 10, 20),\n",
    "}\n",
    "\n",
    "gs = GridSearchCV(modelKernel, gridKernel, cv=kfold_5)\n",
    "gs.fit(X1_train_2023, y1_train_2023);\n",
    "print_data(X1_train_2023, X1_test_2023, y1_train_2023, y1_test_2023, gs)"
   ]
  },
  {
   "cell_type": "markdown",
   "id": "4e95c616",
   "metadata": {
    "id": "4e95c616"
   },
   "source": [
    "#### Seconda metà 2023"
   ]
  },
  {
   "cell_type": "code",
   "execution_count": 95,
   "id": "528e7661",
   "metadata": {
    "id": "528e7661"
   },
   "outputs": [],
   "source": [
    "X2_2023 = dataset2_2023.drop('nuovi_positivi', axis=1)\n",
    "y2_2023 = dataset2_2023['nuovi_positivi']\n",
    "\n",
    "X2_train_2023, X2_test_2023, y2_train_2023, y2_test_2023 = train_test_split(X2_2023, y2_2023, test_size=0.2, random_state=42)"
   ]
  },
  {
   "cell_type": "code",
   "execution_count": 96,
   "id": "655f536f",
   "metadata": {
    "id": "655f536f",
    "outputId": "21b7c581-bc51-4334-febf-0794dd944ac5"
   },
   "outputs": [
    {
     "name": "stdout",
     "output_type": "stream",
     "text": [
      "TRAIN -----------------------\n",
      "       Relative error: 26.05904%\n",
      "R-squared coefficient: 0.95518\n",
      "TEST ------------------------\n",
      "       Relative error: 25.40513%\n",
      "R-squared coefficient: 0.92687\n"
     ]
    }
   ],
   "source": [
    "gs = GridSearchCV(modelKernel, gridKernel, cv=kfold_5)\n",
    "gs.fit(X2_train_2023, y2_train_2023);\n",
    "print_data(X2_train_2023, X2_test_2023, y2_train_2023, y2_test_2023, gs)"
   ]
  },
  {
   "cell_type": "markdown",
   "id": "c1926e4d",
   "metadata": {
    "id": "c1926e4d"
   },
   "source": [
    "Otteniamo delle prestazioni simili da entrambi i modelli, che si comportano leggermente meglio rispetto al modello addestrato e testato sull'intero dataset del 2023"
   ]
  },
  {
   "cell_type": "markdown",
   "id": "2b599852",
   "metadata": {
    "id": "2b599852"
   },
   "source": [
    "# PREVISIONI 2024"
   ]
  },
  {
   "cell_type": "markdown",
   "id": "64452ae3",
   "metadata": {
    "id": "64452ae3"
   },
   "source": [
    "Infine occupiamoci dei dati relativi al dataset del 2024, che contiene i dati da inizio 2024 fino da oggi, creiamo i training e test sets e visualizziamo il grafico:"
   ]
  },
  {
   "cell_type": "code",
   "execution_count": 97,
   "id": "bff77628",
   "metadata": {
    "id": "bff77628"
   },
   "outputs": [],
   "source": [
    "X_2024 = dataset_2024.drop('nuovi_positivi', axis=1)\n",
    "y_2024 = dataset_2024['nuovi_positivi']\n",
    "\n",
    "X_train_2024, X_test_2024, y_train_2024, y_test_2024 = train_test_split(X_2024, y_2024, test_size=0.2, random_state=42)"
   ]
  },
  {
   "cell_type": "code",
   "execution_count": 98,
   "id": "9a5a3597",
   "metadata": {
    "id": "9a5a3597",
    "outputId": "675ee74c-dbcb-4425-beaa-135d024888ca"
   },
   "outputs": [
    {
     "data": {
      "image/png": "[encoded data removed]",
      "text/plain": [
       "<Figure size 720x432 with 1 Axes>"
      ]
     },
     "metadata": {
      "needs_background": "light"
     },
     "output_type": "display_data"
    }
   ],
   "source": [
    "title = f\"Grafico che rappresenta l'andamento dell'epidemia nel 2024\"\n",
    "plot_singolo_grafico(dataset_2024, \"2024\", title)"
   ]
  },
  {
   "cell_type": "markdown",
   "id": "b10e81cc",
   "metadata": {
    "id": "b10e81cc"
   },
   "source": [
    "Notiamo una grande sparsità di dati, per questo non mi aspetto un errore molto alto:"
   ]
  },
  {
   "cell_type": "code",
   "execution_count": 99,
   "id": "deab0064",
   "metadata": {
    "id": "deab0064",
    "outputId": "ff566bc2-dd4f-496d-8703-76eb52a5f55b"
   },
   "outputs": [
    {
     "name": "stdout",
     "output_type": "stream",
     "text": [
      "TRAIN -----------------------\n",
      "       Relative error: 257.73696%\n",
      "R-squared coefficient: 0.44609\n",
      "TEST ------------------------\n",
      "       Relative error: 223.71836%\n",
      "R-squared coefficient: 0.38155\n"
     ]
    }
   ],
   "source": [
    "gs = GridSearchCV(modelKernel, gridKernel, cv=kfold_5)\n",
    "gs.fit(X_train_2024, y_train_2024);\n",
    "print_data(X_train_2024, X_test_2024, y_train_2024, y_test_2024, gs)"
   ]
  },
  {
   "cell_type": "markdown",
   "id": "3b7fac54",
   "metadata": {
    "id": "3b7fac54"
   },
   "source": [
    "Anche se i dati relativi al 2024 sono minori rispetto agli altri anni, perché al momento sono presenti i dati da gennaio ad agosto, proviamo comunque a suddividere i dati in due parti e vediamo se otteniamo valutazioni migliori:"
   ]
  },
  {
   "cell_type": "code",
   "execution_count": 100,
   "id": "5c69ca1d",
   "metadata": {
    "id": "5c69ca1d",
    "outputId": "0c373601-239a-42b6-a602-e9cf00ca53a2"
   },
   "outputs": [
    {
     "data": {
      "image/png": "[encoded data removed]",
      "text/plain": [
       "<Figure size 720x432 with 1 Axes>"
      ]
     },
     "metadata": {
      "needs_background": "light"
     },
     "output_type": "display_data"
    }
   ],
   "source": [
    "#2024\n",
    "date_split_2024 = pd.to_datetime('2024-04-01')\n",
    "\n",
    "#2024\n",
    "dataset1_2024 = dataset[(indici >= inizio_2024) & (indici <= date_split_2024)]\n",
    "dataset2_2024 = dataset[(indici > date_split_2024)]\n",
    "\n",
    "title = f\"Grafico che rappresenta in blu l'andamento nella Prima metà del 2024 e nella Seconda metà 2024\"\n",
    "plot_grafico(dataset1_2024, dataset2_2024, \"Prima metà 2024\", \"Seconda metà 2024\", title)"
   ]
  },
  {
   "cell_type": "markdown",
   "id": "c3bc7566",
   "metadata": {
    "id": "c3bc7566"
   },
   "source": [
    "Nonostante la suddivisione si vede dal grafico che continua ad esserci molta sparsità dei dati in entrambi i dataset, quindi non mi aspetto di ottenere dei risultati simili ai modelli testati sugli anni precedenti:"
   ]
  },
  {
   "cell_type": "markdown",
   "id": "240ff5bd",
   "metadata": {
    "id": "240ff5bd"
   },
   "source": [
    "#### Prima parte 2024"
   ]
  },
  {
   "cell_type": "code",
   "execution_count": 101,
   "id": "ea7a3899",
   "metadata": {
    "id": "ea7a3899"
   },
   "outputs": [],
   "source": [
    "X1_2024 = dataset1_2024.drop('nuovi_positivi', axis=1)\n",
    "y1_2024 = dataset1_2024['nuovi_positivi']\n",
    "\n",
    "X1_train_2024, X1_test_2024, y1_train_2024, y1_test_2024 = train_test_split(X1_2024, y1_2024, test_size=0.2, random_state=42)"
   ]
  },
  {
   "cell_type": "code",
   "execution_count": 102,
   "id": "ffbaa48c",
   "metadata": {
    "id": "ffbaa48c",
    "outputId": "bd20abe7-403e-49b1-d125-d348a7204c5a"
   },
   "outputs": [
    {
     "name": "stdout",
     "output_type": "stream",
     "text": [
      "TRAIN -----------------------\n",
      "       Relative error: 71.57399%\n",
      "R-squared coefficient: 0.77236\n",
      "TEST ------------------------\n",
      "       Relative error: 98.36920%\n",
      "R-squared coefficient: 0.38716\n"
     ]
    }
   ],
   "source": [
    "gs = GridSearchCV(modelKernel, gridKernel, cv=kfold_5)\n",
    "gs.fit(X1_train_2024, y1_train_2024);\n",
    "print_data(X1_train_2024, X1_test_2024, y1_train_2024, y1_test_2024, gs)"
   ]
  },
  {
   "cell_type": "markdown",
   "id": "04895e86",
   "metadata": {
    "id": "04895e86"
   },
   "source": [
    "Otteniamo unerore relativo migliore rispetto al modello dell'intero 2024, ma un _coefficiente di determinazione_ $R^2$ basso soprattutto per il test set."
   ]
  },
  {
   "cell_type": "markdown",
   "id": "153dba72",
   "metadata": {
    "id": "153dba72"
   },
   "source": [
    "#### Seconda parte 2024"
   ]
  },
  {
   "cell_type": "code",
   "execution_count": 103,
   "id": "7412e33e",
   "metadata": {
    "id": "7412e33e"
   },
   "outputs": [],
   "source": [
    "X2_2024 = dataset2_2024.drop('nuovi_positivi', axis=1)\n",
    "y2_2024 = dataset2_2024['nuovi_positivi']\n",
    "\n",
    "X2_train_2024, X2_test_2024, y2_train_2024, y2_test_2024 = train_test_split(X2_2024, y2_2024, test_size=0.2, random_state=42)"
   ]
  },
  {
   "cell_type": "code",
   "execution_count": 104,
   "id": "3e1262f2",
   "metadata": {
    "id": "3e1262f2",
    "outputId": "1aae207e-db58-4722-baf2-ebd0b417fb60"
   },
   "outputs": [
    {
     "name": "stdout",
     "output_type": "stream",
     "text": [
      "TRAIN -----------------------\n",
      "       Relative error: 289.07276%\n",
      "R-squared coefficient: 0.34992\n",
      "TEST ------------------------\n",
      "       Relative error: 280.65615%\n",
      "R-squared coefficient: 0.035902\n"
     ]
    }
   ],
   "source": [
    "gs = GridSearchCV(modelKernel, gridKernel, cv=kfold_5)\n",
    "gs.fit(X2_train_2024, y2_train_2024);\n",
    "print_data(X2_train_2024, X2_test_2024, y2_train_2024, y2_test_2024, gs)"
   ]
  },
  {
   "cell_type": "markdown",
   "id": "6e16b8f0",
   "metadata": {
    "id": "6e16b8f0"
   },
   "source": [
    "Qui invece abbiamo sia un errore relativo troppo alto che un _coefficiente di determinazione_ $R^2$ troppo basso  "
   ]
  },
  {
   "cell_type": "markdown",
   "id": "b7a3bee6",
   "metadata": {
    "id": "b7a3bee6"
   },
   "source": [
    "# Conclusioni"
   ]
  },
  {
   "cell_type": "markdown",
   "id": "e9170764",
   "metadata": {
    "id": "e9170764"
   },
   "source": [
    "L'obiettivo di questo progetto era quello di cercare di prevedere il numero di nuovi positivi di covid-19, trattandosi di un fenomeno molto imprevedibile, con periodi dove il numero di nuovi positivi era molto alto e periodi dove era molto basso, ho capito subito, guardando i grafici, che per avere modelli più precisi dovevo suddividere il dataset iniziale (2020-2024) in più datasets, uno per ogni anno, che a sua volta ho suddiviso in altri datasets, perché dai grafici si vedeva che anche all'interno di uno stesso anno i dati erano sparsi.   \n",
    "\n",
    "Infatti tranne per il 2024 dove i dati erano veramente molto sparsi, i modelli addestrati e testati sulla prima e seconda parte di un determinato anno hanno ottenuto errori più bassi del modello addestrato sull'intero anno.\n",
    "\n",
    "Una conclusione che posso trarre da ciò, è che per fenomeni come il covid-19 dove non ho una continuità di anno in anno, ma ho molta imprevidibilità, è difficile fare previsioni a lungo termine, infatti proprio per questo motivo i modelli con le valutazioni migliori sono quelli addestrati e testati su intervalli di tempo più piccoli (pochi mesi).  "
   ]
  }
 ],
 "metadata": {
  "colab": {
   "provenance": []
  },
  "kernelspec": {
   "display_name": "Python 3 (ipykernel)",
   "language": "python",
   "name": "python3"
  },
  "language_info": {
   "codemirror_mode": {
    "name": "ipython",
    "version": 3
   },
   "file_extension": ".py",
   "mimetype": "text/x-python",
   "name": "python",
   "nbconvert_exporter": "python",
   "pygments_lexer": "ipython3",
   "version": "3.9.7"
  }
 },
 "nbformat": 4,
 "nbformat_minor": 5
}
